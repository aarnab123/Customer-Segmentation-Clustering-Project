{
 "cells": [
  {
   "cell_type": "code",
   "execution_count": 1,
   "id": "b7457abc",
   "metadata": {
    "_cell_guid": "b1076dfc-b9ad-4769-8c92-a6c4dae69d19",
    "_uuid": "8f2839f25d086af736a60e9eeb907d3b93b6e0e5",
    "execution": {
     "iopub.execute_input": "2023-11-06T19:40:11.496889Z",
     "iopub.status.busy": "2023-11-06T19:40:11.496358Z",
     "iopub.status.idle": "2023-11-06T19:40:12.000761Z",
     "shell.execute_reply": "2023-11-06T19:40:11.999253Z"
    },
    "papermill": {
     "duration": 0.52481,
     "end_time": "2023-11-06T19:40:12.004542",
     "exception": false,
     "start_time": "2023-11-06T19:40:11.479732",
     "status": "completed"
    },
    "tags": []
   },
   "outputs": [],
   "source": [
    "import numpy as np # linear algebra\n",
    "import pandas as pd # data processing, CSV file I/O (e.g. pd.read_csv)"
   ]
  },
  {
   "cell_type": "code",
   "execution_count": 2,
   "id": "98f61415",
   "metadata": {
    "execution": {
     "iopub.execute_input": "2023-11-06T19:40:12.037947Z",
     "iopub.status.busy": "2023-11-06T19:40:12.037380Z",
     "iopub.status.idle": "2023-11-06T19:40:13.786535Z",
     "shell.execute_reply": "2023-11-06T19:40:13.785165Z"
    },
    "papermill": {
     "duration": 1.768639,
     "end_time": "2023-11-06T19:40:13.789530",
     "exception": false,
     "start_time": "2023-11-06T19:40:12.020891",
     "status": "completed"
    },
    "tags": []
   },
   "outputs": [
    {
     "data": {
      "text/html": [
       "<div>\n",
       "<style scoped>\n",
       "    .dataframe tbody tr th:only-of-type {\n",
       "        vertical-align: middle;\n",
       "    }\n",
       "\n",
       "    .dataframe tbody tr th {\n",
       "        vertical-align: top;\n",
       "    }\n",
       "\n",
       "    .dataframe thead th {\n",
       "        text-align: right;\n",
       "    }\n",
       "</style>\n",
       "<table border=\"1\" class=\"dataframe\">\n",
       "  <thead>\n",
       "    <tr style=\"text-align: right;\">\n",
       "      <th></th>\n",
       "      <th>InvoiceNo</th>\n",
       "      <th>StockCode</th>\n",
       "      <th>Description</th>\n",
       "      <th>Quantity</th>\n",
       "      <th>InvoiceDate</th>\n",
       "      <th>UnitPrice</th>\n",
       "      <th>CustomerID</th>\n",
       "      <th>Country</th>\n",
       "    </tr>\n",
       "  </thead>\n",
       "  <tbody>\n",
       "    <tr>\n",
       "      <th>0</th>\n",
       "      <td>536365</td>\n",
       "      <td>85123A</td>\n",
       "      <td>WHITE HANGING HEART T-LIGHT HOLDER</td>\n",
       "      <td>6</td>\n",
       "      <td>12/1/2010 8:26</td>\n",
       "      <td>2.55</td>\n",
       "      <td>17850.0</td>\n",
       "      <td>United Kingdom</td>\n",
       "    </tr>\n",
       "    <tr>\n",
       "      <th>1</th>\n",
       "      <td>536365</td>\n",
       "      <td>71053</td>\n",
       "      <td>WHITE METAL LANTERN</td>\n",
       "      <td>6</td>\n",
       "      <td>12/1/2010 8:26</td>\n",
       "      <td>3.39</td>\n",
       "      <td>17850.0</td>\n",
       "      <td>United Kingdom</td>\n",
       "    </tr>\n",
       "    <tr>\n",
       "      <th>2</th>\n",
       "      <td>536365</td>\n",
       "      <td>84406B</td>\n",
       "      <td>CREAM CUPID HEARTS COAT HANGER</td>\n",
       "      <td>8</td>\n",
       "      <td>12/1/2010 8:26</td>\n",
       "      <td>2.75</td>\n",
       "      <td>17850.0</td>\n",
       "      <td>United Kingdom</td>\n",
       "    </tr>\n",
       "    <tr>\n",
       "      <th>3</th>\n",
       "      <td>536365</td>\n",
       "      <td>84029G</td>\n",
       "      <td>KNITTED UNION FLAG HOT WATER BOTTLE</td>\n",
       "      <td>6</td>\n",
       "      <td>12/1/2010 8:26</td>\n",
       "      <td>3.39</td>\n",
       "      <td>17850.0</td>\n",
       "      <td>United Kingdom</td>\n",
       "    </tr>\n",
       "    <tr>\n",
       "      <th>4</th>\n",
       "      <td>536365</td>\n",
       "      <td>84029E</td>\n",
       "      <td>RED WOOLLY HOTTIE WHITE HEART.</td>\n",
       "      <td>6</td>\n",
       "      <td>12/1/2010 8:26</td>\n",
       "      <td>3.39</td>\n",
       "      <td>17850.0</td>\n",
       "      <td>United Kingdom</td>\n",
       "    </tr>\n",
       "  </tbody>\n",
       "</table>\n",
       "</div>"
      ],
      "text/plain": [
       "  InvoiceNo StockCode                          Description  Quantity  \\\n",
       "0    536365    85123A   WHITE HANGING HEART T-LIGHT HOLDER         6   \n",
       "1    536365     71053                  WHITE METAL LANTERN         6   \n",
       "2    536365    84406B       CREAM CUPID HEARTS COAT HANGER         8   \n",
       "3    536365    84029G  KNITTED UNION FLAG HOT WATER BOTTLE         6   \n",
       "4    536365    84029E       RED WOOLLY HOTTIE WHITE HEART.         6   \n",
       "\n",
       "      InvoiceDate  UnitPrice  CustomerID         Country  \n",
       "0  12/1/2010 8:26       2.55     17850.0  United Kingdom  \n",
       "1  12/1/2010 8:26       3.39     17850.0  United Kingdom  \n",
       "2  12/1/2010 8:26       2.75     17850.0  United Kingdom  \n",
       "3  12/1/2010 8:26       3.39     17850.0  United Kingdom  \n",
       "4  12/1/2010 8:26       3.39     17850.0  United Kingdom  "
      ]
     },
     "execution_count": 2,
     "metadata": {},
     "output_type": "execute_result"
    }
   ],
   "source": [
    "df=pd.read_csv('C:\\\\Users\\\\arnab\\\\OneDrive\\\\Desktop\\\\git_project\\\\DS Projects\\\\Customer-Segmentation\\\\OnlineRetail.csv',encoding='ISO-8859-1')\n",
    "df.head()"
   ]
  },
  {
   "cell_type": "code",
   "execution_count": 3,
   "id": "afd93202",
   "metadata": {
    "execution": {
     "iopub.execute_input": "2023-11-06T19:40:13.821296Z",
     "iopub.status.busy": "2023-11-06T19:40:13.820894Z",
     "iopub.status.idle": "2023-11-06T19:40:13.838250Z",
     "shell.execute_reply": "2023-11-06T19:40:13.836937Z"
    },
    "papermill": {
     "duration": 0.036482,
     "end_time": "2023-11-06T19:40:13.841065",
     "exception": false,
     "start_time": "2023-11-06T19:40:13.804583",
     "status": "completed"
    },
    "tags": []
   },
   "outputs": [
    {
     "data": {
      "text/html": [
       "<div>\n",
       "<style scoped>\n",
       "    .dataframe tbody tr th:only-of-type {\n",
       "        vertical-align: middle;\n",
       "    }\n",
       "\n",
       "    .dataframe tbody tr th {\n",
       "        vertical-align: top;\n",
       "    }\n",
       "\n",
       "    .dataframe thead th {\n",
       "        text-align: right;\n",
       "    }\n",
       "</style>\n",
       "<table border=\"1\" class=\"dataframe\">\n",
       "  <thead>\n",
       "    <tr style=\"text-align: right;\">\n",
       "      <th></th>\n",
       "      <th>InvoiceNo</th>\n",
       "      <th>StockCode</th>\n",
       "      <th>Description</th>\n",
       "      <th>Quantity</th>\n",
       "      <th>InvoiceDate</th>\n",
       "      <th>UnitPrice</th>\n",
       "      <th>CustomerID</th>\n",
       "      <th>Country</th>\n",
       "    </tr>\n",
       "  </thead>\n",
       "  <tbody>\n",
       "    <tr>\n",
       "      <th>541904</th>\n",
       "      <td>581587</td>\n",
       "      <td>22613</td>\n",
       "      <td>PACK OF 20 SPACEBOY NAPKINS</td>\n",
       "      <td>12</td>\n",
       "      <td>12/9/2011 12:50</td>\n",
       "      <td>0.85</td>\n",
       "      <td>12680.0</td>\n",
       "      <td>France</td>\n",
       "    </tr>\n",
       "    <tr>\n",
       "      <th>541905</th>\n",
       "      <td>581587</td>\n",
       "      <td>22899</td>\n",
       "      <td>CHILDREN'S APRON DOLLY GIRL</td>\n",
       "      <td>6</td>\n",
       "      <td>12/9/2011 12:50</td>\n",
       "      <td>2.10</td>\n",
       "      <td>12680.0</td>\n",
       "      <td>France</td>\n",
       "    </tr>\n",
       "    <tr>\n",
       "      <th>541906</th>\n",
       "      <td>581587</td>\n",
       "      <td>23254</td>\n",
       "      <td>CHILDRENS CUTLERY DOLLY GIRL</td>\n",
       "      <td>4</td>\n",
       "      <td>12/9/2011 12:50</td>\n",
       "      <td>4.15</td>\n",
       "      <td>12680.0</td>\n",
       "      <td>France</td>\n",
       "    </tr>\n",
       "    <tr>\n",
       "      <th>541907</th>\n",
       "      <td>581587</td>\n",
       "      <td>23255</td>\n",
       "      <td>CHILDRENS CUTLERY CIRCUS PARADE</td>\n",
       "      <td>4</td>\n",
       "      <td>12/9/2011 12:50</td>\n",
       "      <td>4.15</td>\n",
       "      <td>12680.0</td>\n",
       "      <td>France</td>\n",
       "    </tr>\n",
       "    <tr>\n",
       "      <th>541908</th>\n",
       "      <td>581587</td>\n",
       "      <td>22138</td>\n",
       "      <td>BAKING SET 9 PIECE RETROSPOT</td>\n",
       "      <td>3</td>\n",
       "      <td>12/9/2011 12:50</td>\n",
       "      <td>4.95</td>\n",
       "      <td>12680.0</td>\n",
       "      <td>France</td>\n",
       "    </tr>\n",
       "  </tbody>\n",
       "</table>\n",
       "</div>"
      ],
      "text/plain": [
       "       InvoiceNo StockCode                      Description  Quantity  \\\n",
       "541904    581587     22613      PACK OF 20 SPACEBOY NAPKINS        12   \n",
       "541905    581587     22899     CHILDREN'S APRON DOLLY GIRL          6   \n",
       "541906    581587     23254    CHILDRENS CUTLERY DOLLY GIRL          4   \n",
       "541907    581587     23255  CHILDRENS CUTLERY CIRCUS PARADE         4   \n",
       "541908    581587     22138    BAKING SET 9 PIECE RETROSPOT          3   \n",
       "\n",
       "            InvoiceDate  UnitPrice  CustomerID Country  \n",
       "541904  12/9/2011 12:50       0.85     12680.0  France  \n",
       "541905  12/9/2011 12:50       2.10     12680.0  France  \n",
       "541906  12/9/2011 12:50       4.15     12680.0  France  \n",
       "541907  12/9/2011 12:50       4.15     12680.0  France  \n",
       "541908  12/9/2011 12:50       4.95     12680.0  France  "
      ]
     },
     "execution_count": 3,
     "metadata": {},
     "output_type": "execute_result"
    }
   ],
   "source": [
    "df.tail()"
   ]
  },
  {
   "cell_type": "code",
   "execution_count": 4,
   "id": "779f07c8",
   "metadata": {
    "execution": {
     "iopub.execute_input": "2023-11-06T19:40:13.874857Z",
     "iopub.status.busy": "2023-11-06T19:40:13.873299Z",
     "iopub.status.idle": "2023-11-06T19:40:14.179705Z",
     "shell.execute_reply": "2023-11-06T19:40:14.177950Z"
    },
    "papermill": {
     "duration": 0.326403,
     "end_time": "2023-11-06T19:40:14.182929",
     "exception": false,
     "start_time": "2023-11-06T19:40:13.856526",
     "status": "completed"
    },
    "tags": []
   },
   "outputs": [
    {
     "name": "stdout",
     "output_type": "stream",
     "text": [
      "<class 'pandas.core.frame.DataFrame'>\n",
      "RangeIndex: 541909 entries, 0 to 541908\n",
      "Data columns (total 8 columns):\n",
      " #   Column       Non-Null Count   Dtype  \n",
      "---  ------       --------------   -----  \n",
      " 0   InvoiceNo    541909 non-null  object \n",
      " 1   StockCode    541909 non-null  object \n",
      " 2   Description  540455 non-null  object \n",
      " 3   Quantity     541909 non-null  int64  \n",
      " 4   InvoiceDate  541909 non-null  object \n",
      " 5   UnitPrice    541909 non-null  float64\n",
      " 6   CustomerID   406829 non-null  float64\n",
      " 7   Country      541909 non-null  object \n",
      "dtypes: float64(2), int64(1), object(5)\n",
      "memory usage: 33.1+ MB\n"
     ]
    }
   ],
   "source": [
    "df.info()"
   ]
  },
  {
   "cell_type": "code",
   "execution_count": 5,
   "id": "a9e45bbe",
   "metadata": {
    "execution": {
     "iopub.execute_input": "2023-11-06T19:40:14.217660Z",
     "iopub.status.busy": "2023-11-06T19:40:14.216677Z",
     "iopub.status.idle": "2023-11-06T19:40:14.738005Z",
     "shell.execute_reply": "2023-11-06T19:40:14.736629Z"
    },
    "papermill": {
     "duration": 0.541667,
     "end_time": "2023-11-06T19:40:14.741097",
     "exception": false,
     "start_time": "2023-11-06T19:40:14.199430",
     "status": "completed"
    },
    "tags": []
   },
   "outputs": [
    {
     "data": {
      "text/html": [
       "<div>\n",
       "<style scoped>\n",
       "    .dataframe tbody tr th:only-of-type {\n",
       "        vertical-align: middle;\n",
       "    }\n",
       "\n",
       "    .dataframe tbody tr th {\n",
       "        vertical-align: top;\n",
       "    }\n",
       "\n",
       "    .dataframe thead th {\n",
       "        text-align: right;\n",
       "    }\n",
       "</style>\n",
       "<table border=\"1\" class=\"dataframe\">\n",
       "  <thead>\n",
       "    <tr style=\"text-align: right;\">\n",
       "      <th></th>\n",
       "      <th>InvoiceNo</th>\n",
       "      <th>StockCode</th>\n",
       "      <th>Description</th>\n",
       "      <th>Quantity</th>\n",
       "      <th>InvoiceDate</th>\n",
       "      <th>UnitPrice</th>\n",
       "      <th>CustomerID</th>\n",
       "      <th>Country</th>\n",
       "    </tr>\n",
       "  </thead>\n",
       "  <tbody>\n",
       "    <tr>\n",
       "      <th>517</th>\n",
       "      <td>536409</td>\n",
       "      <td>21866</td>\n",
       "      <td>UNION JACK FLAG LUGGAGE TAG</td>\n",
       "      <td>1</td>\n",
       "      <td>12/1/2010 11:45</td>\n",
       "      <td>1.25</td>\n",
       "      <td>17908.0</td>\n",
       "      <td>United Kingdom</td>\n",
       "    </tr>\n",
       "    <tr>\n",
       "      <th>527</th>\n",
       "      <td>536409</td>\n",
       "      <td>22866</td>\n",
       "      <td>HAND WARMER SCOTTY DOG DESIGN</td>\n",
       "      <td>1</td>\n",
       "      <td>12/1/2010 11:45</td>\n",
       "      <td>2.10</td>\n",
       "      <td>17908.0</td>\n",
       "      <td>United Kingdom</td>\n",
       "    </tr>\n",
       "    <tr>\n",
       "      <th>537</th>\n",
       "      <td>536409</td>\n",
       "      <td>22900</td>\n",
       "      <td>SET 2 TEA TOWELS I LOVE LONDON</td>\n",
       "      <td>1</td>\n",
       "      <td>12/1/2010 11:45</td>\n",
       "      <td>2.95</td>\n",
       "      <td>17908.0</td>\n",
       "      <td>United Kingdom</td>\n",
       "    </tr>\n",
       "    <tr>\n",
       "      <th>539</th>\n",
       "      <td>536409</td>\n",
       "      <td>22111</td>\n",
       "      <td>SCOTTIE DOG HOT WATER BOTTLE</td>\n",
       "      <td>1</td>\n",
       "      <td>12/1/2010 11:45</td>\n",
       "      <td>4.95</td>\n",
       "      <td>17908.0</td>\n",
       "      <td>United Kingdom</td>\n",
       "    </tr>\n",
       "    <tr>\n",
       "      <th>555</th>\n",
       "      <td>536412</td>\n",
       "      <td>22327</td>\n",
       "      <td>ROUND SNACK BOXES SET OF 4 SKULLS</td>\n",
       "      <td>1</td>\n",
       "      <td>12/1/2010 11:49</td>\n",
       "      <td>2.95</td>\n",
       "      <td>17920.0</td>\n",
       "      <td>United Kingdom</td>\n",
       "    </tr>\n",
       "    <tr>\n",
       "      <th>...</th>\n",
       "      <td>...</td>\n",
       "      <td>...</td>\n",
       "      <td>...</td>\n",
       "      <td>...</td>\n",
       "      <td>...</td>\n",
       "      <td>...</td>\n",
       "      <td>...</td>\n",
       "      <td>...</td>\n",
       "    </tr>\n",
       "    <tr>\n",
       "      <th>541675</th>\n",
       "      <td>581538</td>\n",
       "      <td>22068</td>\n",
       "      <td>BLACK PIRATE TREASURE CHEST</td>\n",
       "      <td>1</td>\n",
       "      <td>12/9/2011 11:34</td>\n",
       "      <td>0.39</td>\n",
       "      <td>14446.0</td>\n",
       "      <td>United Kingdom</td>\n",
       "    </tr>\n",
       "    <tr>\n",
       "      <th>541689</th>\n",
       "      <td>581538</td>\n",
       "      <td>23318</td>\n",
       "      <td>BOX OF 6 MINI VINTAGE CRACKERS</td>\n",
       "      <td>1</td>\n",
       "      <td>12/9/2011 11:34</td>\n",
       "      <td>2.49</td>\n",
       "      <td>14446.0</td>\n",
       "      <td>United Kingdom</td>\n",
       "    </tr>\n",
       "    <tr>\n",
       "      <th>541692</th>\n",
       "      <td>581538</td>\n",
       "      <td>22992</td>\n",
       "      <td>REVOLVER WOODEN RULER</td>\n",
       "      <td>1</td>\n",
       "      <td>12/9/2011 11:34</td>\n",
       "      <td>1.95</td>\n",
       "      <td>14446.0</td>\n",
       "      <td>United Kingdom</td>\n",
       "    </tr>\n",
       "    <tr>\n",
       "      <th>541699</th>\n",
       "      <td>581538</td>\n",
       "      <td>22694</td>\n",
       "      <td>WICKER STAR</td>\n",
       "      <td>1</td>\n",
       "      <td>12/9/2011 11:34</td>\n",
       "      <td>2.10</td>\n",
       "      <td>14446.0</td>\n",
       "      <td>United Kingdom</td>\n",
       "    </tr>\n",
       "    <tr>\n",
       "      <th>541701</th>\n",
       "      <td>581538</td>\n",
       "      <td>23343</td>\n",
       "      <td>JUMBO BAG VINTAGE CHRISTMAS</td>\n",
       "      <td>1</td>\n",
       "      <td>12/9/2011 11:34</td>\n",
       "      <td>2.08</td>\n",
       "      <td>14446.0</td>\n",
       "      <td>United Kingdom</td>\n",
       "    </tr>\n",
       "  </tbody>\n",
       "</table>\n",
       "<p>5268 rows × 8 columns</p>\n",
       "</div>"
      ],
      "text/plain": [
       "       InvoiceNo StockCode                        Description  Quantity  \\\n",
       "517       536409     21866        UNION JACK FLAG LUGGAGE TAG         1   \n",
       "527       536409     22866      HAND WARMER SCOTTY DOG DESIGN         1   \n",
       "537       536409     22900    SET 2 TEA TOWELS I LOVE LONDON          1   \n",
       "539       536409     22111       SCOTTIE DOG HOT WATER BOTTLE         1   \n",
       "555       536412     22327  ROUND SNACK BOXES SET OF 4 SKULLS         1   \n",
       "...          ...       ...                                ...       ...   \n",
       "541675    581538     22068        BLACK PIRATE TREASURE CHEST         1   \n",
       "541689    581538     23318     BOX OF 6 MINI VINTAGE CRACKERS         1   \n",
       "541692    581538     22992             REVOLVER WOODEN RULER          1   \n",
       "541699    581538     22694                       WICKER STAR          1   \n",
       "541701    581538     23343       JUMBO BAG VINTAGE CHRISTMAS          1   \n",
       "\n",
       "            InvoiceDate  UnitPrice  CustomerID         Country  \n",
       "517     12/1/2010 11:45       1.25     17908.0  United Kingdom  \n",
       "527     12/1/2010 11:45       2.10     17908.0  United Kingdom  \n",
       "537     12/1/2010 11:45       2.95     17908.0  United Kingdom  \n",
       "539     12/1/2010 11:45       4.95     17908.0  United Kingdom  \n",
       "555     12/1/2010 11:49       2.95     17920.0  United Kingdom  \n",
       "...                 ...        ...         ...             ...  \n",
       "541675  12/9/2011 11:34       0.39     14446.0  United Kingdom  \n",
       "541689  12/9/2011 11:34       2.49     14446.0  United Kingdom  \n",
       "541692  12/9/2011 11:34       1.95     14446.0  United Kingdom  \n",
       "541699  12/9/2011 11:34       2.10     14446.0  United Kingdom  \n",
       "541701  12/9/2011 11:34       2.08     14446.0  United Kingdom  \n",
       "\n",
       "[5268 rows x 8 columns]"
      ]
     },
     "execution_count": 5,
     "metadata": {},
     "output_type": "execute_result"
    }
   ],
   "source": [
    "df[df.duplicated()]"
   ]
  },
  {
   "cell_type": "code",
   "execution_count": 6,
   "id": "4cf6241c",
   "metadata": {
    "execution": {
     "iopub.execute_input": "2023-11-06T19:40:14.776580Z",
     "iopub.status.busy": "2023-11-06T19:40:14.775675Z",
     "iopub.status.idle": "2023-11-06T19:40:15.342182Z",
     "shell.execute_reply": "2023-11-06T19:40:15.340952Z"
    },
    "papermill": {
     "duration": 0.587583,
     "end_time": "2023-11-06T19:40:15.345568",
     "exception": false,
     "start_time": "2023-11-06T19:40:14.757985",
     "status": "completed"
    },
    "tags": []
   },
   "outputs": [],
   "source": [
    "df.drop_duplicates(inplace=True)"
   ]
  },
  {
   "cell_type": "code",
   "execution_count": 7,
   "id": "f3a95aa4",
   "metadata": {
    "execution": {
     "iopub.execute_input": "2023-11-06T19:40:15.379936Z",
     "iopub.status.busy": "2023-11-06T19:40:15.379528Z",
     "iopub.status.idle": "2023-11-06T19:40:15.661180Z",
     "shell.execute_reply": "2023-11-06T19:40:15.659551Z"
    },
    "papermill": {
     "duration": 0.302904,
     "end_time": "2023-11-06T19:40:15.664469",
     "exception": false,
     "start_time": "2023-11-06T19:40:15.361565",
     "status": "completed"
    },
    "tags": []
   },
   "outputs": [
    {
     "data": {
      "text/plain": [
       "InvoiceNo           0\n",
       "StockCode           0\n",
       "Description      1454\n",
       "Quantity            0\n",
       "InvoiceDate         0\n",
       "UnitPrice           0\n",
       "CustomerID     135037\n",
       "Country             0\n",
       "dtype: int64"
      ]
     },
     "execution_count": 7,
     "metadata": {},
     "output_type": "execute_result"
    }
   ],
   "source": [
    "df.isna().sum()"
   ]
  },
  {
   "cell_type": "code",
   "execution_count": 8,
   "id": "53aa923e",
   "metadata": {
    "execution": {
     "iopub.execute_input": "2023-11-06T19:40:15.698976Z",
     "iopub.status.busy": "2023-11-06T19:40:15.697673Z",
     "iopub.status.idle": "2023-11-06T19:40:16.035795Z",
     "shell.execute_reply": "2023-11-06T19:40:16.034370Z"
    },
    "papermill": {
     "duration": 0.35791,
     "end_time": "2023-11-06T19:40:16.038562",
     "exception": false,
     "start_time": "2023-11-06T19:40:15.680652",
     "status": "completed"
    },
    "tags": []
   },
   "outputs": [],
   "source": [
    "df.dropna(inplace=True)"
   ]
  },
  {
   "cell_type": "code",
   "execution_count": 9,
   "id": "bb594ead",
   "metadata": {
    "execution": {
     "iopub.execute_input": "2023-11-06T19:40:16.073147Z",
     "iopub.status.busy": "2023-11-06T19:40:16.072603Z",
     "iopub.status.idle": "2023-11-06T19:40:16.302474Z",
     "shell.execute_reply": "2023-11-06T19:40:16.300716Z"
    },
    "papermill": {
     "duration": 0.250047,
     "end_time": "2023-11-06T19:40:16.305382",
     "exception": false,
     "start_time": "2023-11-06T19:40:16.055335",
     "status": "completed"
    },
    "tags": []
   },
   "outputs": [
    {
     "data": {
      "text/plain": [
       "False"
      ]
     },
     "execution_count": 9,
     "metadata": {},
     "output_type": "execute_result"
    }
   ],
   "source": [
    "df.isna().any().any()"
   ]
  },
  {
   "cell_type": "code",
   "execution_count": 10,
   "id": "6a2b18ba",
   "metadata": {
    "execution": {
     "iopub.execute_input": "2023-11-06T19:40:16.338847Z",
     "iopub.status.busy": "2023-11-06T19:40:16.338401Z",
     "iopub.status.idle": "2023-11-06T19:40:16.592302Z",
     "shell.execute_reply": "2023-11-06T19:40:16.591513Z"
    },
    "papermill": {
     "duration": 0.273577,
     "end_time": "2023-11-06T19:40:16.594663",
     "exception": false,
     "start_time": "2023-11-06T19:40:16.321086",
     "status": "completed"
    },
    "tags": []
   },
   "outputs": [
    {
     "data": {
      "text/plain": [
       "InvoiceNo      22190\n",
       "StockCode       3684\n",
       "Description     3896\n",
       "Quantity         436\n",
       "InvoiceDate    20460\n",
       "UnitPrice        620\n",
       "CustomerID      4372\n",
       "Country           37\n",
       "dtype: int64"
      ]
     },
     "execution_count": 10,
     "metadata": {},
     "output_type": "execute_result"
    }
   ],
   "source": [
    "df.nunique()"
   ]
  },
  {
   "cell_type": "code",
   "execution_count": 11,
   "id": "49cc15ff",
   "metadata": {
    "execution": {
     "iopub.execute_input": "2023-11-06T19:40:16.630613Z",
     "iopub.status.busy": "2023-11-06T19:40:16.629910Z",
     "iopub.status.idle": "2023-11-06T19:40:16.665846Z",
     "shell.execute_reply": "2023-11-06T19:40:16.664065Z"
    },
    "papermill": {
     "duration": 0.057739,
     "end_time": "2023-11-06T19:40:16.669133",
     "exception": false,
     "start_time": "2023-11-06T19:40:16.611394",
     "status": "completed"
    },
    "tags": []
   },
   "outputs": [
    {
     "data": {
      "text/plain": [
       "count    401604.000000\n",
       "mean         20.613638\n",
       "std         430.352218\n",
       "min     -168469.600000\n",
       "25%           4.250000\n",
       "50%          11.700000\n",
       "75%          19.800000\n",
       "max      168469.600000\n",
       "Name: Total_Revenue, dtype: float64"
      ]
     },
     "execution_count": 11,
     "metadata": {},
     "output_type": "execute_result"
    }
   ],
   "source": [
    "df['Total_Revenue']=df['UnitPrice']*df['Quantity']\n",
    "df['Total_Revenue'].describe()"
   ]
  },
  {
   "cell_type": "code",
   "execution_count": 12,
   "id": "2494d079",
   "metadata": {
    "execution": {
     "iopub.execute_input": "2023-11-06T19:40:16.713694Z",
     "iopub.status.busy": "2023-11-06T19:40:16.713269Z",
     "iopub.status.idle": "2023-11-06T19:40:16.996737Z",
     "shell.execute_reply": "2023-11-06T19:40:16.995436Z"
    },
    "papermill": {
     "duration": 0.309196,
     "end_time": "2023-11-06T19:40:16.999507",
     "exception": false,
     "start_time": "2023-11-06T19:40:16.690311",
     "status": "completed"
    },
    "tags": []
   },
   "outputs": [
    {
     "data": {
      "text/html": [
       "<div>\n",
       "<style scoped>\n",
       "    .dataframe tbody tr th:only-of-type {\n",
       "        vertical-align: middle;\n",
       "    }\n",
       "\n",
       "    .dataframe tbody tr th {\n",
       "        vertical-align: top;\n",
       "    }\n",
       "\n",
       "    .dataframe thead th {\n",
       "        text-align: right;\n",
       "    }\n",
       "</style>\n",
       "<table border=\"1\" class=\"dataframe\">\n",
       "  <thead>\n",
       "    <tr style=\"text-align: right;\">\n",
       "      <th></th>\n",
       "      <th>InvoiceNo</th>\n",
       "      <th>StockCode</th>\n",
       "      <th>Description</th>\n",
       "      <th>Quantity</th>\n",
       "      <th>InvoiceDate</th>\n",
       "      <th>UnitPrice</th>\n",
       "      <th>CustomerID</th>\n",
       "      <th>Country</th>\n",
       "      <th>Total_Revenue</th>\n",
       "    </tr>\n",
       "  </thead>\n",
       "  <tbody>\n",
       "    <tr>\n",
       "      <th>141</th>\n",
       "      <td>C536379</td>\n",
       "      <td>D</td>\n",
       "      <td>Discount</td>\n",
       "      <td>-1</td>\n",
       "      <td>12/1/2010 9:41</td>\n",
       "      <td>27.50</td>\n",
       "      <td>14527.0</td>\n",
       "      <td>United Kingdom</td>\n",
       "      <td>-27.50</td>\n",
       "    </tr>\n",
       "    <tr>\n",
       "      <th>154</th>\n",
       "      <td>C536383</td>\n",
       "      <td>35004C</td>\n",
       "      <td>SET OF 3 COLOURED  FLYING DUCKS</td>\n",
       "      <td>-1</td>\n",
       "      <td>12/1/2010 9:49</td>\n",
       "      <td>4.65</td>\n",
       "      <td>15311.0</td>\n",
       "      <td>United Kingdom</td>\n",
       "      <td>-4.65</td>\n",
       "    </tr>\n",
       "    <tr>\n",
       "      <th>235</th>\n",
       "      <td>C536391</td>\n",
       "      <td>22556</td>\n",
       "      <td>PLASTERS IN TIN CIRCUS PARADE</td>\n",
       "      <td>-12</td>\n",
       "      <td>12/1/2010 10:24</td>\n",
       "      <td>1.65</td>\n",
       "      <td>17548.0</td>\n",
       "      <td>United Kingdom</td>\n",
       "      <td>-19.80</td>\n",
       "    </tr>\n",
       "    <tr>\n",
       "      <th>236</th>\n",
       "      <td>C536391</td>\n",
       "      <td>21984</td>\n",
       "      <td>PACK OF 12 PINK PAISLEY TISSUES</td>\n",
       "      <td>-24</td>\n",
       "      <td>12/1/2010 10:24</td>\n",
       "      <td>0.29</td>\n",
       "      <td>17548.0</td>\n",
       "      <td>United Kingdom</td>\n",
       "      <td>-6.96</td>\n",
       "    </tr>\n",
       "    <tr>\n",
       "      <th>237</th>\n",
       "      <td>C536391</td>\n",
       "      <td>21983</td>\n",
       "      <td>PACK OF 12 BLUE PAISLEY TISSUES</td>\n",
       "      <td>-24</td>\n",
       "      <td>12/1/2010 10:24</td>\n",
       "      <td>0.29</td>\n",
       "      <td>17548.0</td>\n",
       "      <td>United Kingdom</td>\n",
       "      <td>-6.96</td>\n",
       "    </tr>\n",
       "    <tr>\n",
       "      <th>...</th>\n",
       "      <td>...</td>\n",
       "      <td>...</td>\n",
       "      <td>...</td>\n",
       "      <td>...</td>\n",
       "      <td>...</td>\n",
       "      <td>...</td>\n",
       "      <td>...</td>\n",
       "      <td>...</td>\n",
       "      <td>...</td>\n",
       "    </tr>\n",
       "    <tr>\n",
       "      <th>540449</th>\n",
       "      <td>C581490</td>\n",
       "      <td>23144</td>\n",
       "      <td>ZINC T-LIGHT HOLDER STARS SMALL</td>\n",
       "      <td>-11</td>\n",
       "      <td>12/9/2011 9:57</td>\n",
       "      <td>0.83</td>\n",
       "      <td>14397.0</td>\n",
       "      <td>United Kingdom</td>\n",
       "      <td>-9.13</td>\n",
       "    </tr>\n",
       "    <tr>\n",
       "      <th>541541</th>\n",
       "      <td>C581499</td>\n",
       "      <td>M</td>\n",
       "      <td>Manual</td>\n",
       "      <td>-1</td>\n",
       "      <td>12/9/2011 10:28</td>\n",
       "      <td>224.69</td>\n",
       "      <td>15498.0</td>\n",
       "      <td>United Kingdom</td>\n",
       "      <td>-224.69</td>\n",
       "    </tr>\n",
       "    <tr>\n",
       "      <th>541715</th>\n",
       "      <td>C581568</td>\n",
       "      <td>21258</td>\n",
       "      <td>VICTORIAN SEWING BOX LARGE</td>\n",
       "      <td>-5</td>\n",
       "      <td>12/9/2011 11:57</td>\n",
       "      <td>10.95</td>\n",
       "      <td>15311.0</td>\n",
       "      <td>United Kingdom</td>\n",
       "      <td>-54.75</td>\n",
       "    </tr>\n",
       "    <tr>\n",
       "      <th>541716</th>\n",
       "      <td>C581569</td>\n",
       "      <td>84978</td>\n",
       "      <td>HANGING HEART JAR T-LIGHT HOLDER</td>\n",
       "      <td>-1</td>\n",
       "      <td>12/9/2011 11:58</td>\n",
       "      <td>1.25</td>\n",
       "      <td>17315.0</td>\n",
       "      <td>United Kingdom</td>\n",
       "      <td>-1.25</td>\n",
       "    </tr>\n",
       "    <tr>\n",
       "      <th>541717</th>\n",
       "      <td>C581569</td>\n",
       "      <td>20979</td>\n",
       "      <td>36 PENCILS TUBE RED RETROSPOT</td>\n",
       "      <td>-5</td>\n",
       "      <td>12/9/2011 11:58</td>\n",
       "      <td>1.25</td>\n",
       "      <td>17315.0</td>\n",
       "      <td>United Kingdom</td>\n",
       "      <td>-6.25</td>\n",
       "    </tr>\n",
       "  </tbody>\n",
       "</table>\n",
       "<p>8872 rows × 9 columns</p>\n",
       "</div>"
      ],
      "text/plain": [
       "       InvoiceNo StockCode                       Description  Quantity  \\\n",
       "141      C536379         D                          Discount        -1   \n",
       "154      C536383    35004C   SET OF 3 COLOURED  FLYING DUCKS        -1   \n",
       "235      C536391     22556    PLASTERS IN TIN CIRCUS PARADE        -12   \n",
       "236      C536391     21984  PACK OF 12 PINK PAISLEY TISSUES        -24   \n",
       "237      C536391     21983  PACK OF 12 BLUE PAISLEY TISSUES        -24   \n",
       "...          ...       ...                               ...       ...   \n",
       "540449   C581490     23144   ZINC T-LIGHT HOLDER STARS SMALL       -11   \n",
       "541541   C581499         M                            Manual        -1   \n",
       "541715   C581568     21258        VICTORIAN SEWING BOX LARGE        -5   \n",
       "541716   C581569     84978  HANGING HEART JAR T-LIGHT HOLDER        -1   \n",
       "541717   C581569     20979     36 PENCILS TUBE RED RETROSPOT        -5   \n",
       "\n",
       "            InvoiceDate  UnitPrice  CustomerID         Country  Total_Revenue  \n",
       "141      12/1/2010 9:41      27.50     14527.0  United Kingdom         -27.50  \n",
       "154      12/1/2010 9:49       4.65     15311.0  United Kingdom          -4.65  \n",
       "235     12/1/2010 10:24       1.65     17548.0  United Kingdom         -19.80  \n",
       "236     12/1/2010 10:24       0.29     17548.0  United Kingdom          -6.96  \n",
       "237     12/1/2010 10:24       0.29     17548.0  United Kingdom          -6.96  \n",
       "...                 ...        ...         ...             ...            ...  \n",
       "540449   12/9/2011 9:57       0.83     14397.0  United Kingdom          -9.13  \n",
       "541541  12/9/2011 10:28     224.69     15498.0  United Kingdom        -224.69  \n",
       "541715  12/9/2011 11:57      10.95     15311.0  United Kingdom         -54.75  \n",
       "541716  12/9/2011 11:58       1.25     17315.0  United Kingdom          -1.25  \n",
       "541717  12/9/2011 11:58       1.25     17315.0  United Kingdom          -6.25  \n",
       "\n",
       "[8872 rows x 9 columns]"
      ]
     },
     "execution_count": 12,
     "metadata": {},
     "output_type": "execute_result"
    }
   ],
   "source": [
    "cancel_order=df[df['InvoiceNo'].str.contains('C')]\n",
    "cancel_order"
   ]
  },
  {
   "cell_type": "code",
   "execution_count": 13,
   "id": "aa45d4d3",
   "metadata": {
    "execution": {
     "iopub.execute_input": "2023-11-06T19:40:17.129808Z",
     "iopub.status.busy": "2023-11-06T19:40:17.129341Z",
     "iopub.status.idle": "2023-11-06T19:40:17.189397Z",
     "shell.execute_reply": "2023-11-06T19:40:17.188230Z"
    },
    "papermill": {
     "duration": 0.082025,
     "end_time": "2023-11-06T19:40:17.192120",
     "exception": false,
     "start_time": "2023-11-06T19:40:17.110095",
     "status": "completed"
    },
    "tags": []
   },
   "outputs": [
    {
     "data": {
      "text/html": [
       "<div>\n",
       "<style scoped>\n",
       "    .dataframe tbody tr th:only-of-type {\n",
       "        vertical-align: middle;\n",
       "    }\n",
       "\n",
       "    .dataframe tbody tr th {\n",
       "        vertical-align: top;\n",
       "    }\n",
       "\n",
       "    .dataframe thead th {\n",
       "        text-align: right;\n",
       "    }\n",
       "</style>\n",
       "<table border=\"1\" class=\"dataframe\">\n",
       "  <thead>\n",
       "    <tr style=\"text-align: right;\">\n",
       "      <th></th>\n",
       "      <th>Country</th>\n",
       "      <th>Total_Revenue</th>\n",
       "    </tr>\n",
       "  </thead>\n",
       "  <tbody>\n",
       "    <tr>\n",
       "      <th>0</th>\n",
       "      <td>United Kingdom</td>\n",
       "      <td>6747156.154</td>\n",
       "    </tr>\n",
       "    <tr>\n",
       "      <th>1</th>\n",
       "      <td>Netherlands</td>\n",
       "      <td>284661.540</td>\n",
       "    </tr>\n",
       "    <tr>\n",
       "      <th>2</th>\n",
       "      <td>EIRE</td>\n",
       "      <td>250001.780</td>\n",
       "    </tr>\n",
       "    <tr>\n",
       "      <th>3</th>\n",
       "      <td>Germany</td>\n",
       "      <td>221509.470</td>\n",
       "    </tr>\n",
       "    <tr>\n",
       "      <th>4</th>\n",
       "      <td>France</td>\n",
       "      <td>196626.050</td>\n",
       "    </tr>\n",
       "  </tbody>\n",
       "</table>\n",
       "</div>"
      ],
      "text/plain": [
       "          Country  Total_Revenue\n",
       "0  United Kingdom    6747156.154\n",
       "1     Netherlands     284661.540\n",
       "2            EIRE     250001.780\n",
       "3         Germany     221509.470\n",
       "4          France     196626.050"
      ]
     },
     "execution_count": 13,
     "metadata": {},
     "output_type": "execute_result"
    }
   ],
   "source": [
    "region_sale=df.groupby('Country')['Total_Revenue'].sum().sort_values(ascending=False).head().reset_index()\n",
    "region_sale"
   ]
  },
  {
   "cell_type": "code",
   "execution_count": 14,
   "id": "9a67e45b",
   "metadata": {
    "execution": {
     "iopub.execute_input": "2023-11-06T19:40:17.230614Z",
     "iopub.status.busy": "2023-11-06T19:40:17.230180Z",
     "iopub.status.idle": "2023-11-06T19:40:17.564698Z",
     "shell.execute_reply": "2023-11-06T19:40:17.563355Z"
    },
    "papermill": {
     "duration": 0.357265,
     "end_time": "2023-11-06T19:40:17.567589",
     "exception": false,
     "start_time": "2023-11-06T19:40:17.210324",
     "status": "completed"
    },
    "tags": []
   },
   "outputs": [
    {
     "data": {
      "text/plain": [
       "<AxesSubplot:>"
      ]
     },
     "execution_count": 14,
     "metadata": {},
     "output_type": "execute_result"
    },
    {
     "data": {
      "image/png": "[encoded data removed]",
      "text/plain": [
       "<Figure size 640x480 with 1 Axes>"
      ]
     },
     "metadata": {},
     "output_type": "display_data"
    }
   ],
   "source": [
    "region_sale.plot(kind='bar')"
   ]
  },
  {
   "cell_type": "code",
   "execution_count": 15,
   "id": "143bbebe",
   "metadata": {
    "execution": {
     "iopub.execute_input": "2023-11-06T19:40:17.605632Z",
     "iopub.status.busy": "2023-11-06T19:40:17.605129Z",
     "iopub.status.idle": "2023-11-06T19:40:17.636941Z",
     "shell.execute_reply": "2023-11-06T19:40:17.635257Z"
    },
    "papermill": {
     "duration": 0.054017,
     "end_time": "2023-11-06T19:40:17.639867",
     "exception": false,
     "start_time": "2023-11-06T19:40:17.585850",
     "status": "completed"
    },
    "tags": []
   },
   "outputs": [
    {
     "data": {
      "text/html": [
       "<div>\n",
       "<style scoped>\n",
       "    .dataframe tbody tr th:only-of-type {\n",
       "        vertical-align: middle;\n",
       "    }\n",
       "\n",
       "    .dataframe tbody tr th {\n",
       "        vertical-align: top;\n",
       "    }\n",
       "\n",
       "    .dataframe thead th {\n",
       "        text-align: right;\n",
       "    }\n",
       "</style>\n",
       "<table border=\"1\" class=\"dataframe\">\n",
       "  <thead>\n",
       "    <tr style=\"text-align: right;\">\n",
       "      <th></th>\n",
       "      <th>CustomerID</th>\n",
       "      <th>Total_Revenue</th>\n",
       "    </tr>\n",
       "  </thead>\n",
       "  <tbody>\n",
       "    <tr>\n",
       "      <th>0</th>\n",
       "      <td>14646.0</td>\n",
       "      <td>279489.02</td>\n",
       "    </tr>\n",
       "    <tr>\n",
       "      <th>1</th>\n",
       "      <td>18102.0</td>\n",
       "      <td>256438.49</td>\n",
       "    </tr>\n",
       "    <tr>\n",
       "      <th>2</th>\n",
       "      <td>17450.0</td>\n",
       "      <td>187322.17</td>\n",
       "    </tr>\n",
       "    <tr>\n",
       "      <th>3</th>\n",
       "      <td>14911.0</td>\n",
       "      <td>132458.73</td>\n",
       "    </tr>\n",
       "    <tr>\n",
       "      <th>4</th>\n",
       "      <td>12415.0</td>\n",
       "      <td>123725.45</td>\n",
       "    </tr>\n",
       "    <tr>\n",
       "      <th>5</th>\n",
       "      <td>14156.0</td>\n",
       "      <td>113214.59</td>\n",
       "    </tr>\n",
       "    <tr>\n",
       "      <th>6</th>\n",
       "      <td>17511.0</td>\n",
       "      <td>88125.38</td>\n",
       "    </tr>\n",
       "    <tr>\n",
       "      <th>7</th>\n",
       "      <td>16684.0</td>\n",
       "      <td>65892.08</td>\n",
       "    </tr>\n",
       "    <tr>\n",
       "      <th>8</th>\n",
       "      <td>13694.0</td>\n",
       "      <td>62690.54</td>\n",
       "    </tr>\n",
       "    <tr>\n",
       "      <th>9</th>\n",
       "      <td>15311.0</td>\n",
       "      <td>59284.19</td>\n",
       "    </tr>\n",
       "  </tbody>\n",
       "</table>\n",
       "</div>"
      ],
      "text/plain": [
       "   CustomerID  Total_Revenue\n",
       "0     14646.0      279489.02\n",
       "1     18102.0      256438.49\n",
       "2     17450.0      187322.17\n",
       "3     14911.0      132458.73\n",
       "4     12415.0      123725.45\n",
       "5     14156.0      113214.59\n",
       "6     17511.0       88125.38\n",
       "7     16684.0       65892.08\n",
       "8     13694.0       62690.54\n",
       "9     15311.0       59284.19"
      ]
     },
     "execution_count": 15,
     "metadata": {},
     "output_type": "execute_result"
    }
   ],
   "source": [
    "H_cus=df.groupby('CustomerID')['Total_Revenue'].sum().sort_values(ascending=False).head(10).reset_index()\n",
    "H_cus"
   ]
  },
  {
   "cell_type": "code",
   "execution_count": 16,
   "id": "738cdbe1",
   "metadata": {
    "execution": {
     "iopub.execute_input": "2023-11-06T19:40:17.679111Z",
     "iopub.status.busy": "2023-11-06T19:40:17.677711Z",
     "iopub.status.idle": "2023-11-06T19:40:17.761496Z",
     "shell.execute_reply": "2023-11-06T19:40:17.760179Z"
    },
    "papermill": {
     "duration": 0.106812,
     "end_time": "2023-11-06T19:40:17.764777",
     "exception": false,
     "start_time": "2023-11-06T19:40:17.657965",
     "status": "completed"
    },
    "tags": []
   },
   "outputs": [
    {
     "data": {
      "text/html": [
       "<div>\n",
       "<style scoped>\n",
       "    .dataframe tbody tr th:only-of-type {\n",
       "        vertical-align: middle;\n",
       "    }\n",
       "\n",
       "    .dataframe tbody tr th {\n",
       "        vertical-align: top;\n",
       "    }\n",
       "\n",
       "    .dataframe thead th {\n",
       "        text-align: right;\n",
       "    }\n",
       "</style>\n",
       "<table border=\"1\" class=\"dataframe\">\n",
       "  <thead>\n",
       "    <tr style=\"text-align: right;\">\n",
       "      <th></th>\n",
       "      <th>Description</th>\n",
       "      <th>Quantity</th>\n",
       "    </tr>\n",
       "  </thead>\n",
       "  <tbody>\n",
       "    <tr>\n",
       "      <th>0</th>\n",
       "      <td>WORLD WAR 2 GLIDERS ASSTD DESIGNS</td>\n",
       "      <td>53119</td>\n",
       "    </tr>\n",
       "    <tr>\n",
       "      <th>1</th>\n",
       "      <td>JUMBO BAG RED RETROSPOT</td>\n",
       "      <td>44963</td>\n",
       "    </tr>\n",
       "    <tr>\n",
       "      <th>2</th>\n",
       "      <td>ASSORTED COLOUR BIRD ORNAMENT</td>\n",
       "      <td>35215</td>\n",
       "    </tr>\n",
       "    <tr>\n",
       "      <th>3</th>\n",
       "      <td>WHITE HANGING HEART T-LIGHT HOLDER</td>\n",
       "      <td>34128</td>\n",
       "    </tr>\n",
       "    <tr>\n",
       "      <th>4</th>\n",
       "      <td>PACK OF 72 RETROSPOT CAKE CASES</td>\n",
       "      <td>33386</td>\n",
       "    </tr>\n",
       "  </tbody>\n",
       "</table>\n",
       "</div>"
      ],
      "text/plain": [
       "                          Description  Quantity\n",
       "0   WORLD WAR 2 GLIDERS ASSTD DESIGNS     53119\n",
       "1             JUMBO BAG RED RETROSPOT     44963\n",
       "2       ASSORTED COLOUR BIRD ORNAMENT     35215\n",
       "3  WHITE HANGING HEART T-LIGHT HOLDER     34128\n",
       "4     PACK OF 72 RETROSPOT CAKE CASES     33386"
      ]
     },
     "execution_count": 16,
     "metadata": {},
     "output_type": "execute_result"
    }
   ],
   "source": [
    "M_product=df.groupby('Description')['Quantity'].sum().sort_values(ascending=False).head().reset_index()\n",
    "M_product"
   ]
  },
  {
   "cell_type": "code",
   "execution_count": 17,
   "id": "e034eeba",
   "metadata": {
    "execution": {
     "iopub.execute_input": "2023-11-06T19:40:17.804623Z",
     "iopub.status.busy": "2023-11-06T19:40:17.803834Z",
     "iopub.status.idle": "2023-11-06T19:40:18.093474Z",
     "shell.execute_reply": "2023-11-06T19:40:18.092212Z"
    },
    "papermill": {
     "duration": 0.313701,
     "end_time": "2023-11-06T19:40:18.096890",
     "exception": false,
     "start_time": "2023-11-06T19:40:17.783189",
     "status": "completed"
    },
    "tags": []
   },
   "outputs": [
    {
     "data": {
      "text/plain": [
       "(392732, 9)"
      ]
     },
     "execution_count": 17,
     "metadata": {},
     "output_type": "execute_result"
    }
   ],
   "source": [
    "Df=df[~df['InvoiceNo'].str.contains('C')]\n",
    "Df.shape"
   ]
  },
  {
   "cell_type": "code",
   "execution_count": 18,
   "id": "33a1c92d",
   "metadata": {
    "execution": {
     "iopub.execute_input": "2023-11-06T19:40:18.137896Z",
     "iopub.status.busy": "2023-11-06T19:40:18.137109Z",
     "iopub.status.idle": "2023-11-06T19:40:18.144006Z",
     "shell.execute_reply": "2023-11-06T19:40:18.142851Z"
    },
    "papermill": {
     "duration": 0.030124,
     "end_time": "2023-11-06T19:40:18.146572",
     "exception": false,
     "start_time": "2023-11-06T19:40:18.116448",
     "status": "completed"
    },
    "tags": []
   },
   "outputs": [
    {
     "data": {
      "text/plain": [
       "Index(['InvoiceNo', 'StockCode', 'Description', 'Quantity', 'InvoiceDate',\n",
       "       'UnitPrice', 'CustomerID', 'Country', 'Total_Revenue'],\n",
       "      dtype='object')"
      ]
     },
     "execution_count": 18,
     "metadata": {},
     "output_type": "execute_result"
    }
   ],
   "source": [
    "Df.columns"
   ]
  },
  {
   "cell_type": "code",
   "execution_count": 19,
   "id": "0a4adc68",
   "metadata": {
    "execution": {
     "iopub.execute_input": "2023-11-06T19:40:18.187094Z",
     "iopub.status.busy": "2023-11-06T19:40:18.186070Z",
     "iopub.status.idle": "2023-11-06T19:40:18.719155Z",
     "shell.execute_reply": "2023-11-06T19:40:18.717820Z"
    },
    "papermill": {
     "duration": 0.556743,
     "end_time": "2023-11-06T19:40:18.722349",
     "exception": false,
     "start_time": "2023-11-06T19:40:18.165606",
     "status": "completed"
    },
    "tags": []
   },
   "outputs": [
    {
     "name": "stderr",
     "output_type": "stream",
     "text": [
      "C:\\Users\\arnab\\AppData\\Local\\Temp\\ipykernel_17040\\1150470160.py:1: SettingWithCopyWarning: \n",
      "A value is trying to be set on a copy of a slice from a DataFrame.\n",
      "Try using .loc[row_indexer,col_indexer] = value instead\n",
      "\n",
      "See the caveats in the documentation: https://pandas.pydata.org/pandas-docs/stable/user_guide/indexing.html#returning-a-view-versus-a-copy\n",
      "  Df['CustomerID']=Df['CustomerID'].astype(str)\n",
      "C:\\Users\\arnab\\AppData\\Local\\Temp\\ipykernel_17040\\1150470160.py:2: SettingWithCopyWarning: \n",
      "A value is trying to be set on a copy of a slice from a DataFrame.\n",
      "Try using .loc[row_indexer,col_indexer] = value instead\n",
      "\n",
      "See the caveats in the documentation: https://pandas.pydata.org/pandas-docs/stable/user_guide/indexing.html#returning-a-view-versus-a-copy\n",
      "  Df['InvoiceDate']=pd.to_datetime(Df['InvoiceDate'])\n"
     ]
    }
   ],
   "source": [
    "Df['CustomerID']=Df['CustomerID'].astype(str)\n",
    "Df['InvoiceDate']=pd.to_datetime(Df['InvoiceDate'])"
   ]
  },
  {
   "cell_type": "code",
   "execution_count": 20,
   "id": "be98be5a",
   "metadata": {
    "execution": {
     "iopub.execute_input": "2023-11-06T19:40:18.762574Z",
     "iopub.status.busy": "2023-11-06T19:40:18.762131Z",
     "iopub.status.idle": "2023-11-06T19:40:18.800775Z",
     "shell.execute_reply": "2023-11-06T19:40:18.799170Z"
    },
    "papermill": {
     "duration": 0.062143,
     "end_time": "2023-11-06T19:40:18.803513",
     "exception": false,
     "start_time": "2023-11-06T19:40:18.741370",
     "status": "completed"
    },
    "tags": []
   },
   "outputs": [
    {
     "name": "stdout",
     "output_type": "stream",
     "text": [
      "Most Recent Order 2011-12-09 12:50:00\n"
     ]
    },
    {
     "name": "stderr",
     "output_type": "stream",
     "text": [
      "C:\\Users\\arnab\\AppData\\Local\\Temp\\ipykernel_17040\\4278033014.py:3: SettingWithCopyWarning: \n",
      "A value is trying to be set on a copy of a slice from a DataFrame.\n",
      "Try using .loc[row_indexer,col_indexer] = value instead\n",
      "\n",
      "See the caveats in the documentation: https://pandas.pydata.org/pandas-docs/stable/user_guide/indexing.html#returning-a-view-versus-a-copy\n",
      "  Df['R_order']=recent_date_of_order-Df['InvoiceDate']\n"
     ]
    },
    {
     "data": {
      "text/html": [
       "<div>\n",
       "<style scoped>\n",
       "    .dataframe tbody tr th:only-of-type {\n",
       "        vertical-align: middle;\n",
       "    }\n",
       "\n",
       "    .dataframe tbody tr th {\n",
       "        vertical-align: top;\n",
       "    }\n",
       "\n",
       "    .dataframe thead th {\n",
       "        text-align: right;\n",
       "    }\n",
       "</style>\n",
       "<table border=\"1\" class=\"dataframe\">\n",
       "  <thead>\n",
       "    <tr style=\"text-align: right;\">\n",
       "      <th></th>\n",
       "      <th>InvoiceNo</th>\n",
       "      <th>StockCode</th>\n",
       "      <th>Description</th>\n",
       "      <th>Quantity</th>\n",
       "      <th>InvoiceDate</th>\n",
       "      <th>UnitPrice</th>\n",
       "      <th>CustomerID</th>\n",
       "      <th>Country</th>\n",
       "      <th>Total_Revenue</th>\n",
       "      <th>R_order</th>\n",
       "    </tr>\n",
       "  </thead>\n",
       "  <tbody>\n",
       "    <tr>\n",
       "      <th>0</th>\n",
       "      <td>536365</td>\n",
       "      <td>85123A</td>\n",
       "      <td>WHITE HANGING HEART T-LIGHT HOLDER</td>\n",
       "      <td>6</td>\n",
       "      <td>2010-12-01 08:26:00</td>\n",
       "      <td>2.55</td>\n",
       "      <td>17850.0</td>\n",
       "      <td>United Kingdom</td>\n",
       "      <td>15.30</td>\n",
       "      <td>373 days 04:24:00</td>\n",
       "    </tr>\n",
       "    <tr>\n",
       "      <th>1</th>\n",
       "      <td>536365</td>\n",
       "      <td>71053</td>\n",
       "      <td>WHITE METAL LANTERN</td>\n",
       "      <td>6</td>\n",
       "      <td>2010-12-01 08:26:00</td>\n",
       "      <td>3.39</td>\n",
       "      <td>17850.0</td>\n",
       "      <td>United Kingdom</td>\n",
       "      <td>20.34</td>\n",
       "      <td>373 days 04:24:00</td>\n",
       "    </tr>\n",
       "    <tr>\n",
       "      <th>2</th>\n",
       "      <td>536365</td>\n",
       "      <td>84406B</td>\n",
       "      <td>CREAM CUPID HEARTS COAT HANGER</td>\n",
       "      <td>8</td>\n",
       "      <td>2010-12-01 08:26:00</td>\n",
       "      <td>2.75</td>\n",
       "      <td>17850.0</td>\n",
       "      <td>United Kingdom</td>\n",
       "      <td>22.00</td>\n",
       "      <td>373 days 04:24:00</td>\n",
       "    </tr>\n",
       "    <tr>\n",
       "      <th>3</th>\n",
       "      <td>536365</td>\n",
       "      <td>84029G</td>\n",
       "      <td>KNITTED UNION FLAG HOT WATER BOTTLE</td>\n",
       "      <td>6</td>\n",
       "      <td>2010-12-01 08:26:00</td>\n",
       "      <td>3.39</td>\n",
       "      <td>17850.0</td>\n",
       "      <td>United Kingdom</td>\n",
       "      <td>20.34</td>\n",
       "      <td>373 days 04:24:00</td>\n",
       "    </tr>\n",
       "    <tr>\n",
       "      <th>4</th>\n",
       "      <td>536365</td>\n",
       "      <td>84029E</td>\n",
       "      <td>RED WOOLLY HOTTIE WHITE HEART.</td>\n",
       "      <td>6</td>\n",
       "      <td>2010-12-01 08:26:00</td>\n",
       "      <td>3.39</td>\n",
       "      <td>17850.0</td>\n",
       "      <td>United Kingdom</td>\n",
       "      <td>20.34</td>\n",
       "      <td>373 days 04:24:00</td>\n",
       "    </tr>\n",
       "    <tr>\n",
       "      <th>...</th>\n",
       "      <td>...</td>\n",
       "      <td>...</td>\n",
       "      <td>...</td>\n",
       "      <td>...</td>\n",
       "      <td>...</td>\n",
       "      <td>...</td>\n",
       "      <td>...</td>\n",
       "      <td>...</td>\n",
       "      <td>...</td>\n",
       "      <td>...</td>\n",
       "    </tr>\n",
       "    <tr>\n",
       "      <th>541904</th>\n",
       "      <td>581587</td>\n",
       "      <td>22613</td>\n",
       "      <td>PACK OF 20 SPACEBOY NAPKINS</td>\n",
       "      <td>12</td>\n",
       "      <td>2011-12-09 12:50:00</td>\n",
       "      <td>0.85</td>\n",
       "      <td>12680.0</td>\n",
       "      <td>France</td>\n",
       "      <td>10.20</td>\n",
       "      <td>0 days 00:00:00</td>\n",
       "    </tr>\n",
       "    <tr>\n",
       "      <th>541905</th>\n",
       "      <td>581587</td>\n",
       "      <td>22899</td>\n",
       "      <td>CHILDREN'S APRON DOLLY GIRL</td>\n",
       "      <td>6</td>\n",
       "      <td>2011-12-09 12:50:00</td>\n",
       "      <td>2.10</td>\n",
       "      <td>12680.0</td>\n",
       "      <td>France</td>\n",
       "      <td>12.60</td>\n",
       "      <td>0 days 00:00:00</td>\n",
       "    </tr>\n",
       "    <tr>\n",
       "      <th>541906</th>\n",
       "      <td>581587</td>\n",
       "      <td>23254</td>\n",
       "      <td>CHILDRENS CUTLERY DOLLY GIRL</td>\n",
       "      <td>4</td>\n",
       "      <td>2011-12-09 12:50:00</td>\n",
       "      <td>4.15</td>\n",
       "      <td>12680.0</td>\n",
       "      <td>France</td>\n",
       "      <td>16.60</td>\n",
       "      <td>0 days 00:00:00</td>\n",
       "    </tr>\n",
       "    <tr>\n",
       "      <th>541907</th>\n",
       "      <td>581587</td>\n",
       "      <td>23255</td>\n",
       "      <td>CHILDRENS CUTLERY CIRCUS PARADE</td>\n",
       "      <td>4</td>\n",
       "      <td>2011-12-09 12:50:00</td>\n",
       "      <td>4.15</td>\n",
       "      <td>12680.0</td>\n",
       "      <td>France</td>\n",
       "      <td>16.60</td>\n",
       "      <td>0 days 00:00:00</td>\n",
       "    </tr>\n",
       "    <tr>\n",
       "      <th>541908</th>\n",
       "      <td>581587</td>\n",
       "      <td>22138</td>\n",
       "      <td>BAKING SET 9 PIECE RETROSPOT</td>\n",
       "      <td>3</td>\n",
       "      <td>2011-12-09 12:50:00</td>\n",
       "      <td>4.95</td>\n",
       "      <td>12680.0</td>\n",
       "      <td>France</td>\n",
       "      <td>14.85</td>\n",
       "      <td>0 days 00:00:00</td>\n",
       "    </tr>\n",
       "  </tbody>\n",
       "</table>\n",
       "<p>392732 rows × 10 columns</p>\n",
       "</div>"
      ],
      "text/plain": [
       "       InvoiceNo StockCode                          Description  Quantity  \\\n",
       "0         536365    85123A   WHITE HANGING HEART T-LIGHT HOLDER         6   \n",
       "1         536365     71053                  WHITE METAL LANTERN         6   \n",
       "2         536365    84406B       CREAM CUPID HEARTS COAT HANGER         8   \n",
       "3         536365    84029G  KNITTED UNION FLAG HOT WATER BOTTLE         6   \n",
       "4         536365    84029E       RED WOOLLY HOTTIE WHITE HEART.         6   \n",
       "...          ...       ...                                  ...       ...   \n",
       "541904    581587     22613          PACK OF 20 SPACEBOY NAPKINS        12   \n",
       "541905    581587     22899         CHILDREN'S APRON DOLLY GIRL          6   \n",
       "541906    581587     23254        CHILDRENS CUTLERY DOLLY GIRL          4   \n",
       "541907    581587     23255      CHILDRENS CUTLERY CIRCUS PARADE         4   \n",
       "541908    581587     22138        BAKING SET 9 PIECE RETROSPOT          3   \n",
       "\n",
       "               InvoiceDate  UnitPrice CustomerID         Country  \\\n",
       "0      2010-12-01 08:26:00       2.55    17850.0  United Kingdom   \n",
       "1      2010-12-01 08:26:00       3.39    17850.0  United Kingdom   \n",
       "2      2010-12-01 08:26:00       2.75    17850.0  United Kingdom   \n",
       "3      2010-12-01 08:26:00       3.39    17850.0  United Kingdom   \n",
       "4      2010-12-01 08:26:00       3.39    17850.0  United Kingdom   \n",
       "...                    ...        ...        ...             ...   \n",
       "541904 2011-12-09 12:50:00       0.85    12680.0          France   \n",
       "541905 2011-12-09 12:50:00       2.10    12680.0          France   \n",
       "541906 2011-12-09 12:50:00       4.15    12680.0          France   \n",
       "541907 2011-12-09 12:50:00       4.15    12680.0          France   \n",
       "541908 2011-12-09 12:50:00       4.95    12680.0          France   \n",
       "\n",
       "        Total_Revenue           R_order  \n",
       "0               15.30 373 days 04:24:00  \n",
       "1               20.34 373 days 04:24:00  \n",
       "2               22.00 373 days 04:24:00  \n",
       "3               20.34 373 days 04:24:00  \n",
       "4               20.34 373 days 04:24:00  \n",
       "...               ...               ...  \n",
       "541904          10.20   0 days 00:00:00  \n",
       "541905          12.60   0 days 00:00:00  \n",
       "541906          16.60   0 days 00:00:00  \n",
       "541907          16.60   0 days 00:00:00  \n",
       "541908          14.85   0 days 00:00:00  \n",
       "\n",
       "[392732 rows x 10 columns]"
      ]
     },
     "execution_count": 20,
     "metadata": {},
     "output_type": "execute_result"
    }
   ],
   "source": [
    "recent_date_of_order=Df['InvoiceDate'].max()\n",
    "print('Most Recent Order',recent_date_of_order)\n",
    "Df['R_order']=recent_date_of_order-Df['InvoiceDate']\n",
    "Df"
   ]
  },
  {
   "cell_type": "code",
   "execution_count": 21,
   "id": "12ce6bba",
   "metadata": {
    "execution": {
     "iopub.execute_input": "2023-11-06T19:40:18.845766Z",
     "iopub.status.busy": "2023-11-06T19:40:18.845344Z",
     "iopub.status.idle": "2023-11-06T19:40:18.921002Z",
     "shell.execute_reply": "2023-11-06T19:40:18.919780Z"
    },
    "papermill": {
     "duration": 0.101121,
     "end_time": "2023-11-06T19:40:18.923832",
     "exception": false,
     "start_time": "2023-11-06T19:40:18.822711",
     "status": "completed"
    },
    "tags": []
   },
   "outputs": [
    {
     "data": {
      "text/html": [
       "<div>\n",
       "<style scoped>\n",
       "    .dataframe tbody tr th:only-of-type {\n",
       "        vertical-align: middle;\n",
       "    }\n",
       "\n",
       "    .dataframe tbody tr th {\n",
       "        vertical-align: top;\n",
       "    }\n",
       "\n",
       "    .dataframe thead th {\n",
       "        text-align: right;\n",
       "    }\n",
       "</style>\n",
       "<table border=\"1\" class=\"dataframe\">\n",
       "  <thead>\n",
       "    <tr style=\"text-align: right;\">\n",
       "      <th></th>\n",
       "      <th>CustomerID</th>\n",
       "      <th>Recency</th>\n",
       "    </tr>\n",
       "  </thead>\n",
       "  <tbody>\n",
       "    <tr>\n",
       "      <th>0</th>\n",
       "      <td>12346.0</td>\n",
       "      <td>325</td>\n",
       "    </tr>\n",
       "    <tr>\n",
       "      <th>1</th>\n",
       "      <td>12347.0</td>\n",
       "      <td>1</td>\n",
       "    </tr>\n",
       "    <tr>\n",
       "      <th>2</th>\n",
       "      <td>12348.0</td>\n",
       "      <td>74</td>\n",
       "    </tr>\n",
       "    <tr>\n",
       "      <th>3</th>\n",
       "      <td>12349.0</td>\n",
       "      <td>18</td>\n",
       "    </tr>\n",
       "    <tr>\n",
       "      <th>4</th>\n",
       "      <td>12350.0</td>\n",
       "      <td>309</td>\n",
       "    </tr>\n",
       "  </tbody>\n",
       "</table>\n",
       "</div>"
      ],
      "text/plain": [
       "  CustomerID  Recency\n",
       "0    12346.0      325\n",
       "1    12347.0        1\n",
       "2    12348.0       74\n",
       "3    12349.0       18\n",
       "4    12350.0      309"
      ]
     },
     "execution_count": 21,
     "metadata": {},
     "output_type": "execute_result"
    }
   ],
   "source": [
    "recency=Df.groupby('CustomerID')['R_order'].min().reset_index()\n",
    "recency.columns=['CustomerID','Recency']\n",
    "recency['Recency']=recency['Recency'].dt.days\n",
    "recency.head()"
   ]
  },
  {
   "cell_type": "code",
   "execution_count": 22,
   "id": "2f4a19c2",
   "metadata": {
    "execution": {
     "iopub.execute_input": "2023-11-06T19:40:18.967189Z",
     "iopub.status.busy": "2023-11-06T19:40:18.966785Z",
     "iopub.status.idle": "2023-11-06T19:40:19.070112Z",
     "shell.execute_reply": "2023-11-06T19:40:19.068901Z"
    },
    "papermill": {
     "duration": 0.127935,
     "end_time": "2023-11-06T19:40:19.072882",
     "exception": false,
     "start_time": "2023-11-06T19:40:18.944947",
     "status": "completed"
    },
    "tags": []
   },
   "outputs": [
    {
     "data": {
      "text/html": [
       "<div>\n",
       "<style scoped>\n",
       "    .dataframe tbody tr th:only-of-type {\n",
       "        vertical-align: middle;\n",
       "    }\n",
       "\n",
       "    .dataframe tbody tr th {\n",
       "        vertical-align: top;\n",
       "    }\n",
       "\n",
       "    .dataframe thead th {\n",
       "        text-align: right;\n",
       "    }\n",
       "</style>\n",
       "<table border=\"1\" class=\"dataframe\">\n",
       "  <thead>\n",
       "    <tr style=\"text-align: right;\">\n",
       "      <th></th>\n",
       "      <th>CustomerID</th>\n",
       "      <th>Frequency</th>\n",
       "    </tr>\n",
       "  </thead>\n",
       "  <tbody>\n",
       "    <tr>\n",
       "      <th>0</th>\n",
       "      <td>12346.0</td>\n",
       "      <td>1</td>\n",
       "    </tr>\n",
       "    <tr>\n",
       "      <th>1</th>\n",
       "      <td>12347.0</td>\n",
       "      <td>182</td>\n",
       "    </tr>\n",
       "    <tr>\n",
       "      <th>2</th>\n",
       "      <td>12348.0</td>\n",
       "      <td>31</td>\n",
       "    </tr>\n",
       "    <tr>\n",
       "      <th>3</th>\n",
       "      <td>12349.0</td>\n",
       "      <td>73</td>\n",
       "    </tr>\n",
       "    <tr>\n",
       "      <th>4</th>\n",
       "      <td>12350.0</td>\n",
       "      <td>17</td>\n",
       "    </tr>\n",
       "  </tbody>\n",
       "</table>\n",
       "</div>"
      ],
      "text/plain": [
       "  CustomerID  Frequency\n",
       "0    12346.0          1\n",
       "1    12347.0        182\n",
       "2    12348.0         31\n",
       "3    12349.0         73\n",
       "4    12350.0         17"
      ]
     },
     "execution_count": 22,
     "metadata": {},
     "output_type": "execute_result"
    }
   ],
   "source": [
    "frequency=Df.groupby('CustomerID')['InvoiceNo'].count().reset_index()\n",
    "frequency.rename(columns={'CustomerID':'CustomerID','InvoiceNo':'Frequency'},inplace=True)\n",
    "frequency.head()"
   ]
  },
  {
   "cell_type": "code",
   "execution_count": 23,
   "id": "a247261b",
   "metadata": {
    "execution": {
     "iopub.execute_input": "2023-11-06T19:40:19.115139Z",
     "iopub.status.busy": "2023-11-06T19:40:19.114730Z",
     "iopub.status.idle": "2023-11-06T19:40:19.177995Z",
     "shell.execute_reply": "2023-11-06T19:40:19.177187Z"
    },
    "papermill": {
     "duration": 0.087649,
     "end_time": "2023-11-06T19:40:19.180342",
     "exception": false,
     "start_time": "2023-11-06T19:40:19.092693",
     "status": "completed"
    },
    "tags": []
   },
   "outputs": [
    {
     "data": {
      "text/html": [
       "<div>\n",
       "<style scoped>\n",
       "    .dataframe tbody tr th:only-of-type {\n",
       "        vertical-align: middle;\n",
       "    }\n",
       "\n",
       "    .dataframe tbody tr th {\n",
       "        vertical-align: top;\n",
       "    }\n",
       "\n",
       "    .dataframe thead th {\n",
       "        text-align: right;\n",
       "    }\n",
       "</style>\n",
       "<table border=\"1\" class=\"dataframe\">\n",
       "  <thead>\n",
       "    <tr style=\"text-align: right;\">\n",
       "      <th></th>\n",
       "      <th>CustomerID</th>\n",
       "      <th>Monetary</th>\n",
       "    </tr>\n",
       "  </thead>\n",
       "  <tbody>\n",
       "    <tr>\n",
       "      <th>0</th>\n",
       "      <td>12346.0</td>\n",
       "      <td>77183.60</td>\n",
       "    </tr>\n",
       "    <tr>\n",
       "      <th>1</th>\n",
       "      <td>12347.0</td>\n",
       "      <td>4310.00</td>\n",
       "    </tr>\n",
       "    <tr>\n",
       "      <th>2</th>\n",
       "      <td>12348.0</td>\n",
       "      <td>1797.24</td>\n",
       "    </tr>\n",
       "    <tr>\n",
       "      <th>3</th>\n",
       "      <td>12349.0</td>\n",
       "      <td>1757.55</td>\n",
       "    </tr>\n",
       "    <tr>\n",
       "      <th>4</th>\n",
       "      <td>12350.0</td>\n",
       "      <td>334.40</td>\n",
       "    </tr>\n",
       "  </tbody>\n",
       "</table>\n",
       "</div>"
      ],
      "text/plain": [
       "  CustomerID  Monetary\n",
       "0    12346.0  77183.60\n",
       "1    12347.0   4310.00\n",
       "2    12348.0   1797.24\n",
       "3    12349.0   1757.55\n",
       "4    12350.0    334.40"
      ]
     },
     "execution_count": 23,
     "metadata": {},
     "output_type": "execute_result"
    }
   ],
   "source": [
    "monetary=Df.groupby('CustomerID')['Total_Revenue'].sum().reset_index()\n",
    "monetary.rename(columns={'CustomerID':'CustomerID','Total_Revenue':'Monetary'},inplace=True)\n",
    "monetary.head()"
   ]
  },
  {
   "cell_type": "code",
   "execution_count": 24,
   "id": "c07729cb",
   "metadata": {
    "execution": {
     "iopub.execute_input": "2023-11-06T19:40:19.223710Z",
     "iopub.status.busy": "2023-11-06T19:40:19.223065Z",
     "iopub.status.idle": "2023-11-06T19:40:19.258997Z",
     "shell.execute_reply": "2023-11-06T19:40:19.257557Z"
    },
    "papermill": {
     "duration": 0.060777,
     "end_time": "2023-11-06T19:40:19.262018",
     "exception": false,
     "start_time": "2023-11-06T19:40:19.201241",
     "status": "completed"
    },
    "tags": []
   },
   "outputs": [
    {
     "data": {
      "text/html": [
       "<div>\n",
       "<style scoped>\n",
       "    .dataframe tbody tr th:only-of-type {\n",
       "        vertical-align: middle;\n",
       "    }\n",
       "\n",
       "    .dataframe tbody tr th {\n",
       "        vertical-align: top;\n",
       "    }\n",
       "\n",
       "    .dataframe thead th {\n",
       "        text-align: right;\n",
       "    }\n",
       "</style>\n",
       "<table border=\"1\" class=\"dataframe\">\n",
       "  <thead>\n",
       "    <tr style=\"text-align: right;\">\n",
       "      <th></th>\n",
       "      <th>CustomerID</th>\n",
       "      <th>Recency</th>\n",
       "      <th>Frequency</th>\n",
       "      <th>Monetary</th>\n",
       "    </tr>\n",
       "  </thead>\n",
       "  <tbody>\n",
       "    <tr>\n",
       "      <th>0</th>\n",
       "      <td>12346.0</td>\n",
       "      <td>325</td>\n",
       "      <td>1</td>\n",
       "      <td>77183.60</td>\n",
       "    </tr>\n",
       "    <tr>\n",
       "      <th>1</th>\n",
       "      <td>12347.0</td>\n",
       "      <td>1</td>\n",
       "      <td>182</td>\n",
       "      <td>4310.00</td>\n",
       "    </tr>\n",
       "    <tr>\n",
       "      <th>2</th>\n",
       "      <td>12348.0</td>\n",
       "      <td>74</td>\n",
       "      <td>31</td>\n",
       "      <td>1797.24</td>\n",
       "    </tr>\n",
       "    <tr>\n",
       "      <th>3</th>\n",
       "      <td>12349.0</td>\n",
       "      <td>18</td>\n",
       "      <td>73</td>\n",
       "      <td>1757.55</td>\n",
       "    </tr>\n",
       "    <tr>\n",
       "      <th>4</th>\n",
       "      <td>12350.0</td>\n",
       "      <td>309</td>\n",
       "      <td>17</td>\n",
       "      <td>334.40</td>\n",
       "    </tr>\n",
       "    <tr>\n",
       "      <th>...</th>\n",
       "      <td>...</td>\n",
       "      <td>...</td>\n",
       "      <td>...</td>\n",
       "      <td>...</td>\n",
       "    </tr>\n",
       "    <tr>\n",
       "      <th>4334</th>\n",
       "      <td>18280.0</td>\n",
       "      <td>277</td>\n",
       "      <td>10</td>\n",
       "      <td>180.60</td>\n",
       "    </tr>\n",
       "    <tr>\n",
       "      <th>4335</th>\n",
       "      <td>18281.0</td>\n",
       "      <td>180</td>\n",
       "      <td>7</td>\n",
       "      <td>80.82</td>\n",
       "    </tr>\n",
       "    <tr>\n",
       "      <th>4336</th>\n",
       "      <td>18282.0</td>\n",
       "      <td>7</td>\n",
       "      <td>12</td>\n",
       "      <td>178.05</td>\n",
       "    </tr>\n",
       "    <tr>\n",
       "      <th>4337</th>\n",
       "      <td>18283.0</td>\n",
       "      <td>3</td>\n",
       "      <td>721</td>\n",
       "      <td>2045.53</td>\n",
       "    </tr>\n",
       "    <tr>\n",
       "      <th>4338</th>\n",
       "      <td>18287.0</td>\n",
       "      <td>42</td>\n",
       "      <td>70</td>\n",
       "      <td>1837.28</td>\n",
       "    </tr>\n",
       "  </tbody>\n",
       "</table>\n",
       "<p>4339 rows × 4 columns</p>\n",
       "</div>"
      ],
      "text/plain": [
       "     CustomerID  Recency  Frequency  Monetary\n",
       "0       12346.0      325          1  77183.60\n",
       "1       12347.0        1        182   4310.00\n",
       "2       12348.0       74         31   1797.24\n",
       "3       12349.0       18         73   1757.55\n",
       "4       12350.0      309         17    334.40\n",
       "...         ...      ...        ...       ...\n",
       "4334    18280.0      277         10    180.60\n",
       "4335    18281.0      180          7     80.82\n",
       "4336    18282.0        7         12    178.05\n",
       "4337    18283.0        3        721   2045.53\n",
       "4338    18287.0       42         70   1837.28\n",
       "\n",
       "[4339 rows x 4 columns]"
      ]
     },
     "execution_count": 24,
     "metadata": {},
     "output_type": "execute_result"
    }
   ],
   "source": [
    "Rfm=pd.merge(recency,frequency,on='CustomerID',how='inner')\n",
    "Rfm=pd.merge(Rfm,monetary,on='CustomerID',how='inner')\n",
    "Rfm"
   ]
  },
  {
   "cell_type": "code",
   "execution_count": 25,
   "id": "bf592371",
   "metadata": {
    "execution": {
     "iopub.execute_input": "2023-11-06T19:40:19.305583Z",
     "iopub.status.busy": "2023-11-06T19:40:19.304548Z",
     "iopub.status.idle": "2023-11-06T19:40:19.321630Z",
     "shell.execute_reply": "2023-11-06T19:40:19.319903Z"
    },
    "papermill": {
     "duration": 0.041992,
     "end_time": "2023-11-06T19:40:19.324497",
     "exception": false,
     "start_time": "2023-11-06T19:40:19.282505",
     "status": "completed"
    },
    "tags": []
   },
   "outputs": [
    {
     "name": "stdout",
     "output_type": "stream",
     "text": [
      "<class 'pandas.core.frame.DataFrame'>\n",
      "Int64Index: 4339 entries, 0 to 4338\n",
      "Data columns (total 4 columns):\n",
      " #   Column      Non-Null Count  Dtype  \n",
      "---  ------      --------------  -----  \n",
      " 0   CustomerID  4339 non-null   object \n",
      " 1   Recency     4339 non-null   int64  \n",
      " 2   Frequency   4339 non-null   int64  \n",
      " 3   Monetary    4339 non-null   float64\n",
      "dtypes: float64(1), int64(2), object(1)\n",
      "memory usage: 169.5+ KB\n"
     ]
    }
   ],
   "source": [
    "Rfm.info()"
   ]
  },
  {
   "cell_type": "code",
   "execution_count": 26,
   "id": "c1230915",
   "metadata": {
    "execution": {
     "iopub.execute_input": "2023-11-06T19:40:19.368795Z",
     "iopub.status.busy": "2023-11-06T19:40:19.368343Z",
     "iopub.status.idle": "2023-11-06T19:40:21.001236Z",
     "shell.execute_reply": "2023-11-06T19:40:20.999993Z"
    },
    "papermill": {
     "duration": 1.658815,
     "end_time": "2023-11-06T19:40:21.004248",
     "exception": false,
     "start_time": "2023-11-06T19:40:19.345433",
     "status": "completed"
    },
    "tags": []
   },
   "outputs": [
    {
     "name": "stderr",
     "output_type": "stream",
     "text": [
      "c:\\ProgramData\\Anaconda3\\lib\\site-packages\\scipy\\__init__.py:155: UserWarning: A NumPy version >=1.18.5 and <1.25.0 is required for this version of SciPy (detected version 1.26.2\n",
      "  warnings.warn(f\"A NumPy version >={np_minversion} and <{np_maxversion}\"\n"
     ]
    }
   ],
   "source": [
    "import matplotlib.pyplot as plt\n",
    "import seaborn as sns"
   ]
  },
  {
   "cell_type": "code",
   "execution_count": 27,
   "id": "aa4e85fa",
   "metadata": {
    "execution": {
     "iopub.execute_input": "2023-11-06T19:40:21.049577Z",
     "iopub.status.busy": "2023-11-06T19:40:21.049148Z",
     "iopub.status.idle": "2023-11-06T19:40:21.725016Z",
     "shell.execute_reply": "2023-11-06T19:40:21.723886Z"
    },
    "papermill": {
     "duration": 0.701416,
     "end_time": "2023-11-06T19:40:21.728141",
     "exception": false,
     "start_time": "2023-11-06T19:40:21.026725",
     "status": "completed"
    },
    "tags": []
   },
   "outputs": [
    {
     "data": {
      "image/png": "[encoded data removed]",
      "text/plain": [
       "<Figure size 1000x800 with 4 Axes>"
      ]
     },
     "metadata": {},
     "output_type": "display_data"
    }
   ],
   "source": [
    "cols=Rfm.select_dtypes(exclude='object').columns.tolist()\n",
    "fig,axes=plt.subplots(2,2,figsize=(10,8))\n",
    "for i,ax in enumerate(axes.flatten()):\n",
    "    if i>2:\n",
    "        break\n",
    "    sns.boxplot(data=Rfm,x=cols[i],ax=ax,showmeans=True)\n",
    "    ax.set_title(cols[i],fontsize=14,color='red')\n",
    "    ax.grid(True)\n",
    "plt.tight_layout()\n",
    "plt.show()"
   ]
  },
  {
   "cell_type": "code",
   "execution_count": 28,
   "id": "757c63a2",
   "metadata": {
    "execution": {
     "iopub.execute_input": "2023-11-06T19:40:21.772731Z",
     "iopub.status.busy": "2023-11-06T19:40:21.772072Z",
     "iopub.status.idle": "2023-11-06T19:40:23.302491Z",
     "shell.execute_reply": "2023-11-06T19:40:23.301383Z"
    },
    "papermill": {
     "duration": 1.555728,
     "end_time": "2023-11-06T19:40:23.304830",
     "exception": false,
     "start_time": "2023-11-06T19:40:21.749102",
     "status": "completed"
    },
    "tags": []
   },
   "outputs": [
    {
     "data": {
      "image/png": "[encoded data removed]",
      "text/plain": [
       "<Figure size 1000x800 with 4 Axes>"
      ]
     },
     "metadata": {},
     "output_type": "display_data"
    }
   ],
   "source": [
    "fig,axes=plt.subplots(2,2,figsize=(10,8))\n",
    "for i,ax in enumerate(axes.flatten()):\n",
    "    if i>2:\n",
    "        break\n",
    "    sns.histplot(data=Rfm,x=cols[i],ax=ax,kde=True,bins=50)\n",
    "    ax.set_title(cols[i],fontsize=14,color='red')\n",
    "    ax.grid(True)\n",
    "plt.tight_layout()\n",
    "plt.show()"
   ]
  },
  {
   "cell_type": "code",
   "execution_count": 29,
   "id": "1baf3507",
   "metadata": {
    "execution": {
     "iopub.execute_input": "2023-11-06T19:40:23.351771Z",
     "iopub.status.busy": "2023-11-06T19:40:23.350012Z",
     "iopub.status.idle": "2023-11-06T19:40:23.359992Z",
     "shell.execute_reply": "2023-11-06T19:40:23.358962Z"
    },
    "papermill": {
     "duration": 0.035852,
     "end_time": "2023-11-06T19:40:23.362537",
     "exception": false,
     "start_time": "2023-11-06T19:40:23.326685",
     "status": "completed"
    },
    "tags": []
   },
   "outputs": [],
   "source": [
    "def IQR_data(data):\n",
    "    col=data.select_dtypes(exclude='object').columns.tolist()\n",
    "    for i in col:\n",
    "        q1=data[i].quantile(.25)\n",
    "        q3=data[i].quantile(.75)\n",
    "        IQR=q3-q1\n",
    "        lower=q1-1.5*IQR\n",
    "        upper=q3+1.5*IQR\n",
    "        data=data.loc[(data[i]>=lower)&(data[i]<=upper)]\n",
    "    return data"
   ]
  },
  {
   "cell_type": "code",
   "execution_count": 30,
   "id": "665264f4",
   "metadata": {
    "execution": {
     "iopub.execute_input": "2023-11-06T19:40:23.408753Z",
     "iopub.status.busy": "2023-11-06T19:40:23.407965Z",
     "iopub.status.idle": "2023-11-06T19:40:23.432405Z",
     "shell.execute_reply": "2023-11-06T19:40:23.431534Z"
    },
    "papermill": {
     "duration": 0.050273,
     "end_time": "2023-11-06T19:40:23.434657",
     "exception": false,
     "start_time": "2023-11-06T19:40:23.384384",
     "status": "completed"
    },
    "tags": []
   },
   "outputs": [
    {
     "data": {
      "text/html": [
       "<div>\n",
       "<style scoped>\n",
       "    .dataframe tbody tr th:only-of-type {\n",
       "        vertical-align: middle;\n",
       "    }\n",
       "\n",
       "    .dataframe tbody tr th {\n",
       "        vertical-align: top;\n",
       "    }\n",
       "\n",
       "    .dataframe thead th {\n",
       "        text-align: right;\n",
       "    }\n",
       "</style>\n",
       "<table border=\"1\" class=\"dataframe\">\n",
       "  <thead>\n",
       "    <tr style=\"text-align: right;\">\n",
       "      <th></th>\n",
       "      <th>CustomerID</th>\n",
       "      <th>Recency</th>\n",
       "      <th>Frequency</th>\n",
       "      <th>Monetary</th>\n",
       "    </tr>\n",
       "  </thead>\n",
       "  <tbody>\n",
       "    <tr>\n",
       "      <th>2</th>\n",
       "      <td>12348.0</td>\n",
       "      <td>74</td>\n",
       "      <td>31</td>\n",
       "      <td>1797.24</td>\n",
       "    </tr>\n",
       "    <tr>\n",
       "      <th>3</th>\n",
       "      <td>12349.0</td>\n",
       "      <td>18</td>\n",
       "      <td>73</td>\n",
       "      <td>1757.55</td>\n",
       "    </tr>\n",
       "    <tr>\n",
       "      <th>4</th>\n",
       "      <td>12350.0</td>\n",
       "      <td>309</td>\n",
       "      <td>17</td>\n",
       "      <td>334.40</td>\n",
       "    </tr>\n",
       "    <tr>\n",
       "      <th>5</th>\n",
       "      <td>12352.0</td>\n",
       "      <td>35</td>\n",
       "      <td>85</td>\n",
       "      <td>2506.04</td>\n",
       "    </tr>\n",
       "    <tr>\n",
       "      <th>6</th>\n",
       "      <td>12353.0</td>\n",
       "      <td>203</td>\n",
       "      <td>4</td>\n",
       "      <td>89.00</td>\n",
       "    </tr>\n",
       "    <tr>\n",
       "      <th>...</th>\n",
       "      <td>...</td>\n",
       "      <td>...</td>\n",
       "      <td>...</td>\n",
       "      <td>...</td>\n",
       "    </tr>\n",
       "    <tr>\n",
       "      <th>4333</th>\n",
       "      <td>18278.0</td>\n",
       "      <td>73</td>\n",
       "      <td>9</td>\n",
       "      <td>173.90</td>\n",
       "    </tr>\n",
       "    <tr>\n",
       "      <th>4334</th>\n",
       "      <td>18280.0</td>\n",
       "      <td>277</td>\n",
       "      <td>10</td>\n",
       "      <td>180.60</td>\n",
       "    </tr>\n",
       "    <tr>\n",
       "      <th>4335</th>\n",
       "      <td>18281.0</td>\n",
       "      <td>180</td>\n",
       "      <td>7</td>\n",
       "      <td>80.82</td>\n",
       "    </tr>\n",
       "    <tr>\n",
       "      <th>4336</th>\n",
       "      <td>18282.0</td>\n",
       "      <td>7</td>\n",
       "      <td>12</td>\n",
       "      <td>178.05</td>\n",
       "    </tr>\n",
       "    <tr>\n",
       "      <th>4338</th>\n",
       "      <td>18287.0</td>\n",
       "      <td>42</td>\n",
       "      <td>70</td>\n",
       "      <td>1837.28</td>\n",
       "    </tr>\n",
       "  </tbody>\n",
       "</table>\n",
       "<p>3504 rows × 4 columns</p>\n",
       "</div>"
      ],
      "text/plain": [
       "     CustomerID  Recency  Frequency  Monetary\n",
       "2       12348.0       74         31   1797.24\n",
       "3       12349.0       18         73   1757.55\n",
       "4       12350.0      309         17    334.40\n",
       "5       12352.0       35         85   2506.04\n",
       "6       12353.0      203          4     89.00\n",
       "...         ...      ...        ...       ...\n",
       "4333    18278.0       73          9    173.90\n",
       "4334    18280.0      277         10    180.60\n",
       "4335    18281.0      180          7     80.82\n",
       "4336    18282.0        7         12    178.05\n",
       "4338    18287.0       42         70   1837.28\n",
       "\n",
       "[3504 rows x 4 columns]"
      ]
     },
     "execution_count": 30,
     "metadata": {},
     "output_type": "execute_result"
    }
   ],
   "source": [
    "IQR_data(Rfm)"
   ]
  },
  {
   "cell_type": "code",
   "execution_count": 31,
   "id": "90e3891d",
   "metadata": {
    "execution": {
     "iopub.execute_input": "2023-11-06T19:40:23.481031Z",
     "iopub.status.busy": "2023-11-06T19:40:23.480213Z",
     "iopub.status.idle": "2023-11-06T19:40:23.486533Z",
     "shell.execute_reply": "2023-11-06T19:40:23.485620Z"
    },
    "papermill": {
     "duration": 0.032424,
     "end_time": "2023-11-06T19:40:23.488958",
     "exception": false,
     "start_time": "2023-11-06T19:40:23.456534",
     "status": "completed"
    },
    "tags": []
   },
   "outputs": [],
   "source": [
    "Rfm.drop(columns='CustomerID',inplace=True)"
   ]
  },
  {
   "cell_type": "code",
   "execution_count": 32,
   "id": "e056dfe1",
   "metadata": {
    "execution": {
     "iopub.execute_input": "2023-11-06T19:40:23.536077Z",
     "iopub.status.busy": "2023-11-06T19:40:23.535234Z",
     "iopub.status.idle": "2023-11-06T19:40:23.547633Z",
     "shell.execute_reply": "2023-11-06T19:40:23.546315Z"
    },
    "papermill": {
     "duration": 0.039759,
     "end_time": "2023-11-06T19:40:23.550858",
     "exception": false,
     "start_time": "2023-11-06T19:40:23.511099",
     "status": "completed"
    },
    "tags": []
   },
   "outputs": [
    {
     "data": {
      "text/html": [
       "<div>\n",
       "<style scoped>\n",
       "    .dataframe tbody tr th:only-of-type {\n",
       "        vertical-align: middle;\n",
       "    }\n",
       "\n",
       "    .dataframe tbody tr th {\n",
       "        vertical-align: top;\n",
       "    }\n",
       "\n",
       "    .dataframe thead th {\n",
       "        text-align: right;\n",
       "    }\n",
       "</style>\n",
       "<table border=\"1\" class=\"dataframe\">\n",
       "  <thead>\n",
       "    <tr style=\"text-align: right;\">\n",
       "      <th></th>\n",
       "      <th>Recency</th>\n",
       "      <th>Frequency</th>\n",
       "      <th>Monetary</th>\n",
       "    </tr>\n",
       "  </thead>\n",
       "  <tbody>\n",
       "    <tr>\n",
       "      <th>0</th>\n",
       "      <td>325</td>\n",
       "      <td>1</td>\n",
       "      <td>77183.60</td>\n",
       "    </tr>\n",
       "    <tr>\n",
       "      <th>1</th>\n",
       "      <td>1</td>\n",
       "      <td>182</td>\n",
       "      <td>4310.00</td>\n",
       "    </tr>\n",
       "    <tr>\n",
       "      <th>2</th>\n",
       "      <td>74</td>\n",
       "      <td>31</td>\n",
       "      <td>1797.24</td>\n",
       "    </tr>\n",
       "    <tr>\n",
       "      <th>3</th>\n",
       "      <td>18</td>\n",
       "      <td>73</td>\n",
       "      <td>1757.55</td>\n",
       "    </tr>\n",
       "    <tr>\n",
       "      <th>4</th>\n",
       "      <td>309</td>\n",
       "      <td>17</td>\n",
       "      <td>334.40</td>\n",
       "    </tr>\n",
       "  </tbody>\n",
       "</table>\n",
       "</div>"
      ],
      "text/plain": [
       "   Recency  Frequency  Monetary\n",
       "0      325          1  77183.60\n",
       "1        1        182   4310.00\n",
       "2       74         31   1797.24\n",
       "3       18         73   1757.55\n",
       "4      309         17    334.40"
      ]
     },
     "execution_count": 32,
     "metadata": {},
     "output_type": "execute_result"
    }
   ],
   "source": [
    "Rfm.head()"
   ]
  },
  {
   "cell_type": "code",
   "execution_count": 33,
   "id": "43e3d80f",
   "metadata": {
    "execution": {
     "iopub.execute_input": "2023-11-06T19:40:23.600751Z",
     "iopub.status.busy": "2023-11-06T19:40:23.599841Z",
     "iopub.status.idle": "2023-11-06T19:40:23.627073Z",
     "shell.execute_reply": "2023-11-06T19:40:23.625686Z"
    },
    "papermill": {
     "duration": 0.055114,
     "end_time": "2023-11-06T19:40:23.629848",
     "exception": false,
     "start_time": "2023-11-06T19:40:23.574734",
     "status": "completed"
    },
    "tags": []
   },
   "outputs": [
    {
     "data": {
      "text/html": [
       "<div>\n",
       "<style scoped>\n",
       "    .dataframe tbody tr th:only-of-type {\n",
       "        vertical-align: middle;\n",
       "    }\n",
       "\n",
       "    .dataframe tbody tr th {\n",
       "        vertical-align: top;\n",
       "    }\n",
       "\n",
       "    .dataframe thead th {\n",
       "        text-align: right;\n",
       "    }\n",
       "</style>\n",
       "<table border=\"1\" class=\"dataframe\">\n",
       "  <thead>\n",
       "    <tr style=\"text-align: right;\">\n",
       "      <th></th>\n",
       "      <th>count</th>\n",
       "      <th>mean</th>\n",
       "      <th>std</th>\n",
       "      <th>min</th>\n",
       "      <th>25%</th>\n",
       "      <th>50%</th>\n",
       "      <th>75%</th>\n",
       "      <th>max</th>\n",
       "    </tr>\n",
       "  </thead>\n",
       "  <tbody>\n",
       "    <tr>\n",
       "      <th>Recency</th>\n",
       "      <td>4339.0</td>\n",
       "      <td>91.518322</td>\n",
       "      <td>100.009747</td>\n",
       "      <td>0.0</td>\n",
       "      <td>17.000</td>\n",
       "      <td>50.00</td>\n",
       "      <td>141.000</td>\n",
       "      <td>373.00</td>\n",
       "    </tr>\n",
       "    <tr>\n",
       "      <th>Frequency</th>\n",
       "      <td>4339.0</td>\n",
       "      <td>90.512100</td>\n",
       "      <td>225.515328</td>\n",
       "      <td>1.0</td>\n",
       "      <td>17.000</td>\n",
       "      <td>41.00</td>\n",
       "      <td>98.000</td>\n",
       "      <td>7676.00</td>\n",
       "    </tr>\n",
       "    <tr>\n",
       "      <th>Monetary</th>\n",
       "      <td>4339.0</td>\n",
       "      <td>2048.215924</td>\n",
       "      <td>8984.248352</td>\n",
       "      <td>0.0</td>\n",
       "      <td>306.455</td>\n",
       "      <td>668.56</td>\n",
       "      <td>1660.315</td>\n",
       "      <td>280206.02</td>\n",
       "    </tr>\n",
       "  </tbody>\n",
       "</table>\n",
       "</div>"
      ],
      "text/plain": [
       "            count         mean          std  min      25%     50%       75%  \\\n",
       "Recency    4339.0    91.518322   100.009747  0.0   17.000   50.00   141.000   \n",
       "Frequency  4339.0    90.512100   225.515328  1.0   17.000   41.00    98.000   \n",
       "Monetary   4339.0  2048.215924  8984.248352  0.0  306.455  668.56  1660.315   \n",
       "\n",
       "                 max  \n",
       "Recency       373.00  \n",
       "Frequency    7676.00  \n",
       "Monetary   280206.02  "
      ]
     },
     "execution_count": 33,
     "metadata": {},
     "output_type": "execute_result"
    }
   ],
   "source": [
    "Rfm.describe().T"
   ]
  },
  {
   "cell_type": "code",
   "execution_count": 34,
   "id": "a6bc6fd9",
   "metadata": {
    "execution": {
     "iopub.execute_input": "2023-11-06T19:40:23.679164Z",
     "iopub.status.busy": "2023-11-06T19:40:23.678777Z",
     "iopub.status.idle": "2023-11-06T19:40:23.861869Z",
     "shell.execute_reply": "2023-11-06T19:40:23.860429Z"
    },
    "papermill": {
     "duration": 0.211561,
     "end_time": "2023-11-06T19:40:23.865009",
     "exception": false,
     "start_time": "2023-11-06T19:40:23.653448",
     "status": "completed"
    },
    "tags": []
   },
   "outputs": [
    {
     "data": {
      "text/plain": [
       "array([[ 2.33485829e+00, -3.96968210e-01,  8.36397668e+00],\n",
       "       [-9.05199314e-01,  4.05730491e-01,  2.51778965e-01],\n",
       "       [-1.75186336e-01, -2.63924227e-01, -2.79383250e-02],\n",
       "       ...,\n",
       "       [-8.45198247e-01, -3.48185416e-01, -2.08184524e-01],\n",
       "       [-8.85198958e-01,  2.79608740e+00, -2.98993684e-04],\n",
       "       [-4.95192025e-01, -9.09670479e-02, -2.34811224e-02]])"
      ]
     },
     "execution_count": 34,
     "metadata": {},
     "output_type": "execute_result"
    }
   ],
   "source": [
    "from sklearn.preprocessing import StandardScaler\n",
    "SC=StandardScaler()\n",
    "Rfm=SC.fit_transform(Rfm)\n",
    "Rfm"
   ]
  },
  {
   "cell_type": "code",
   "execution_count": 35,
   "id": "43d37c63",
   "metadata": {
    "execution": {
     "iopub.execute_input": "2023-11-06T19:40:23.913890Z",
     "iopub.status.busy": "2023-11-06T19:40:23.913510Z",
     "iopub.status.idle": "2023-11-06T19:40:23.941839Z",
     "shell.execute_reply": "2023-11-06T19:40:23.940480Z"
    },
    "papermill": {
     "duration": 0.056171,
     "end_time": "2023-11-06T19:40:23.944714",
     "exception": false,
     "start_time": "2023-11-06T19:40:23.888543",
     "status": "completed"
    },
    "tags": []
   },
   "outputs": [
    {
     "data": {
      "text/html": [
       "<div>\n",
       "<style scoped>\n",
       "    .dataframe tbody tr th:only-of-type {\n",
       "        vertical-align: middle;\n",
       "    }\n",
       "\n",
       "    .dataframe tbody tr th {\n",
       "        vertical-align: top;\n",
       "    }\n",
       "\n",
       "    .dataframe thead th {\n",
       "        text-align: right;\n",
       "    }\n",
       "</style>\n",
       "<table border=\"1\" class=\"dataframe\">\n",
       "  <thead>\n",
       "    <tr style=\"text-align: right;\">\n",
       "      <th></th>\n",
       "      <th>count</th>\n",
       "      <th>mean</th>\n",
       "      <th>std</th>\n",
       "      <th>min</th>\n",
       "      <th>25%</th>\n",
       "      <th>50%</th>\n",
       "      <th>75%</th>\n",
       "      <th>max</th>\n",
       "    </tr>\n",
       "  </thead>\n",
       "  <tbody>\n",
       "    <tr>\n",
       "      <th>Recency</th>\n",
       "      <td>4339.0</td>\n",
       "      <td>5.890144e-17</td>\n",
       "      <td>1.000115</td>\n",
       "      <td>-0.915199</td>\n",
       "      <td>-0.745196</td>\n",
       "      <td>-0.415191</td>\n",
       "      <td>0.494826</td>\n",
       "      <td>2.814867</td>\n",
       "    </tr>\n",
       "    <tr>\n",
       "      <th>Frequency</th>\n",
       "      <td>4339.0</td>\n",
       "      <td>-1.604309e-17</td>\n",
       "      <td>1.000115</td>\n",
       "      <td>-0.396968</td>\n",
       "      <td>-0.326011</td>\n",
       "      <td>-0.219576</td>\n",
       "      <td>0.033207</td>\n",
       "      <td>33.640118</td>\n",
       "    </tr>\n",
       "    <tr>\n",
       "      <th>Monetary</th>\n",
       "      <td>4339.0</td>\n",
       "      <td>-6.420516e-17</td>\n",
       "      <td>1.000115</td>\n",
       "      <td>-0.228005</td>\n",
       "      <td>-0.193891</td>\n",
       "      <td>-0.153582</td>\n",
       "      <td>-0.043181</td>\n",
       "      <td>30.964178</td>\n",
       "    </tr>\n",
       "  </tbody>\n",
       "</table>\n",
       "</div>"
      ],
      "text/plain": [
       "            count          mean       std       min       25%       50%  \\\n",
       "Recency    4339.0  5.890144e-17  1.000115 -0.915199 -0.745196 -0.415191   \n",
       "Frequency  4339.0 -1.604309e-17  1.000115 -0.396968 -0.326011 -0.219576   \n",
       "Monetary   4339.0 -6.420516e-17  1.000115 -0.228005 -0.193891 -0.153582   \n",
       "\n",
       "                75%        max  \n",
       "Recency    0.494826   2.814867  \n",
       "Frequency  0.033207  33.640118  \n",
       "Monetary  -0.043181  30.964178  "
      ]
     },
     "execution_count": 35,
     "metadata": {},
     "output_type": "execute_result"
    }
   ],
   "source": [
    "Rfm=pd.DataFrame(Rfm,columns=['Recency','Frequency','Monetary'])\n",
    "Rfm.describe().T"
   ]
  },
  {
   "cell_type": "code",
   "execution_count": 36,
   "id": "78a350eb",
   "metadata": {
    "execution": {
     "iopub.execute_input": "2023-11-06T19:40:23.995005Z",
     "iopub.status.busy": "2023-11-06T19:40:23.994610Z",
     "iopub.status.idle": "2023-11-06T19:40:24.009308Z",
     "shell.execute_reply": "2023-11-06T19:40:24.007834Z"
    },
    "papermill": {
     "duration": 0.043207,
     "end_time": "2023-11-06T19:40:24.012422",
     "exception": false,
     "start_time": "2023-11-06T19:40:23.969215",
     "status": "completed"
    },
    "tags": []
   },
   "outputs": [
    {
     "data": {
      "text/html": [
       "<div>\n",
       "<style scoped>\n",
       "    .dataframe tbody tr th:only-of-type {\n",
       "        vertical-align: middle;\n",
       "    }\n",
       "\n",
       "    .dataframe tbody tr th {\n",
       "        vertical-align: top;\n",
       "    }\n",
       "\n",
       "    .dataframe thead th {\n",
       "        text-align: right;\n",
       "    }\n",
       "</style>\n",
       "<table border=\"1\" class=\"dataframe\">\n",
       "  <thead>\n",
       "    <tr style=\"text-align: right;\">\n",
       "      <th></th>\n",
       "      <th>Recency</th>\n",
       "      <th>Frequency</th>\n",
       "      <th>Monetary</th>\n",
       "    </tr>\n",
       "  </thead>\n",
       "  <tbody>\n",
       "    <tr>\n",
       "      <th>0</th>\n",
       "      <td>2.334858</td>\n",
       "      <td>-0.396968</td>\n",
       "      <td>8.363977</td>\n",
       "    </tr>\n",
       "    <tr>\n",
       "      <th>1</th>\n",
       "      <td>-0.905199</td>\n",
       "      <td>0.405730</td>\n",
       "      <td>0.251779</td>\n",
       "    </tr>\n",
       "    <tr>\n",
       "      <th>2</th>\n",
       "      <td>-0.175186</td>\n",
       "      <td>-0.263924</td>\n",
       "      <td>-0.027938</td>\n",
       "    </tr>\n",
       "    <tr>\n",
       "      <th>3</th>\n",
       "      <td>-0.735196</td>\n",
       "      <td>-0.077663</td>\n",
       "      <td>-0.032357</td>\n",
       "    </tr>\n",
       "    <tr>\n",
       "      <th>4</th>\n",
       "      <td>2.174855</td>\n",
       "      <td>-0.326011</td>\n",
       "      <td>-0.190780</td>\n",
       "    </tr>\n",
       "  </tbody>\n",
       "</table>\n",
       "</div>"
      ],
      "text/plain": [
       "    Recency  Frequency  Monetary\n",
       "0  2.334858  -0.396968  8.363977\n",
       "1 -0.905199   0.405730  0.251779\n",
       "2 -0.175186  -0.263924 -0.027938\n",
       "3 -0.735196  -0.077663 -0.032357\n",
       "4  2.174855  -0.326011 -0.190780"
      ]
     },
     "execution_count": 36,
     "metadata": {},
     "output_type": "execute_result"
    }
   ],
   "source": [
    "Rfm.head()"
   ]
  },
  {
   "cell_type": "code",
   "execution_count": null,
   "id": "c2d5c672",
   "metadata": {
    "execution": {
     "iopub.execute_input": "2023-11-06T19:40:24.063590Z",
     "iopub.status.busy": "2023-11-06T19:40:24.062265Z",
     "iopub.status.idle": "2023-11-06T19:40:46.305796Z",
     "shell.execute_reply": "2023-11-06T19:40:46.304481Z"
    },
    "papermill": {
     "duration": 22.272531,
     "end_time": "2023-11-06T19:40:46.309241",
     "exception": false,
     "start_time": "2023-11-06T19:40:24.036710",
     "status": "completed"
    },
    "tags": []
   },
   "outputs": [],
   "source": [
    "from sklearn.cluster import KMeans\n",
    "wcss=[]  \n",
    "for i in range(1,15):\n",
    "    kmeans=KMeans(n_clusters=i,init='k-means++',max_iter=300,n_init=12,random_state=15)\n",
    "    kmeans.fit(Rfm)\n",
    "    wcss.append(kmeans.inertia_)\n",
    "\n",
    "plt.plot(range(1,15),wcss,marker='*')\n",
    "plt.xlabel('Number of Clusters')\n",
    "plt.ylabel('WCSS')\n",
    "plt.title('Elbow Method for Optimal K')\n",
    "plt.grid(True)\n",
    "plt.show()"
   ]
  },
  {
   "cell_type": "code",
   "execution_count": null,
   "id": "5a788730",
   "metadata": {
    "execution": {
     "iopub.execute_input": "2023-11-06T19:40:46.361548Z",
     "iopub.status.busy": "2023-11-06T19:40:46.360117Z",
     "iopub.status.idle": "2023-11-06T19:40:46.369282Z",
     "shell.execute_reply": "2023-11-06T19:40:46.367759Z"
    },
    "papermill": {
     "duration": 0.038926,
     "end_time": "2023-11-06T19:40:46.372751",
     "exception": false,
     "start_time": "2023-11-06T19:40:46.333825",
     "status": "completed"
    },
    "tags": []
   },
   "outputs": [],
   "source": [
    "print('No of Optimal Clusters from Elbow method is expected to be 5')"
   ]
  },
  {
   "cell_type": "code",
   "execution_count": null,
   "id": "06ba57fd",
   "metadata": {
    "execution": {
     "iopub.execute_input": "2023-11-06T19:40:46.442269Z",
     "iopub.status.busy": "2023-11-06T19:40:46.441548Z",
     "iopub.status.idle": "2023-11-06T19:41:12.626126Z",
     "shell.execute_reply": "2023-11-06T19:41:12.624654Z"
    },
    "papermill": {
     "duration": 26.224811,
     "end_time": "2023-11-06T19:41:12.629365",
     "exception": false,
     "start_time": "2023-11-06T19:40:46.404554",
     "status": "completed"
    },
    "tags": []
   },
   "outputs": [],
   "source": [
    "from sklearn.metrics import silhouette_score\n",
    "s_score=[]  \n",
    "for i in range(2,15):\n",
    "    kmeans=KMeans(n_clusters=i,init='k-means++',max_iter=300,n_init=12,random_state=15)\n",
    "    kmeans.fit(Rfm)\n",
    "    labels=kmeans.labels_\n",
    "    s_avg=silhouette_score(Rfm,labels)\n",
    "    s_score.append(s_avg)\n",
    "\n",
    "plt.plot(range(2,15),s_score,marker='o',color='green')\n",
    "plt.xlabel('Number of Clusters')\n",
    "plt.ylabel('Silhouette Score')\n",
    "plt.title('Silhouette Score for Optimal K')\n",
    "plt.grid(True)\n",
    "plt.show()"
   ]
  },
  {
   "cell_type": "code",
   "execution_count": null,
   "id": "dbc9f952",
   "metadata": {
    "execution": {
     "iopub.execute_input": "2023-11-06T19:41:12.684256Z",
     "iopub.status.busy": "2023-11-06T19:41:12.683851Z",
     "iopub.status.idle": "2023-11-06T19:41:14.006377Z",
     "shell.execute_reply": "2023-11-06T19:41:14.003571Z"
    },
    "papermill": {
     "duration": 1.358269,
     "end_time": "2023-11-06T19:41:14.014686",
     "exception": false,
     "start_time": "2023-11-06T19:41:12.656417",
     "status": "completed"
    },
    "tags": []
   },
   "outputs": [],
   "source": [
    "kmeans = KMeans(n_clusters=5, init='k-means++', max_iter=300, n_init=12, random_state=15)\n",
    "kmeans.fit(Rfm)\n",
    "clusters=kmeans.predict(Rfm)\n",
    "clusters"
   ]
  },
  {
   "cell_type": "code",
   "execution_count": null,
   "id": "1dc59f7f",
   "metadata": {
    "execution": {
     "iopub.execute_input": "2023-11-06T19:41:14.070108Z",
     "iopub.status.busy": "2023-11-06T19:41:14.069664Z",
     "iopub.status.idle": "2023-11-06T19:41:14.084934Z",
     "shell.execute_reply": "2023-11-06T19:41:14.083444Z"
    },
    "papermill": {
     "duration": 0.045706,
     "end_time": "2023-11-06T19:41:14.088025",
     "exception": false,
     "start_time": "2023-11-06T19:41:14.042319",
     "status": "completed"
    },
    "tags": []
   },
   "outputs": [],
   "source": [
    "Rfm['Clusters']=clusters\n",
    "Rfm.head()"
   ]
  },
  {
   "cell_type": "code",
   "execution_count": null,
   "id": "c27404c9",
   "metadata": {
    "execution": {
     "iopub.execute_input": "2023-11-06T19:41:14.142637Z",
     "iopub.status.busy": "2023-11-06T19:41:14.142188Z",
     "iopub.status.idle": "2023-11-06T19:41:14.161864Z",
     "shell.execute_reply": "2023-11-06T19:41:14.160048Z"
    },
    "papermill": {
     "duration": 0.050586,
     "end_time": "2023-11-06T19:41:14.164950",
     "exception": false,
     "start_time": "2023-11-06T19:41:14.114364",
     "status": "completed"
    },
    "tags": []
   },
   "outputs": [],
   "source": [
    "Rfm[Rfm['Clusters']==0]"
   ]
  },
  {
   "cell_type": "code",
   "execution_count": null,
   "id": "6ca38228",
   "metadata": {
    "execution": {
     "iopub.execute_input": "2023-11-06T19:41:14.223279Z",
     "iopub.status.busy": "2023-11-06T19:41:14.222823Z",
     "iopub.status.idle": "2023-11-06T19:41:14.232647Z",
     "shell.execute_reply": "2023-11-06T19:41:14.230908Z"
    },
    "papermill": {
     "duration": 0.0436,
     "end_time": "2023-11-06T19:41:14.236178",
     "exception": false,
     "start_time": "2023-11-06T19:41:14.192578",
     "status": "completed"
    },
    "tags": []
   },
   "outputs": [],
   "source": [
    "Rfm['Clusters']=Rfm['Clusters'].astype('category')"
   ]
  },
  {
   "cell_type": "code",
   "execution_count": null,
   "id": "184bcda3",
   "metadata": {
    "execution": {
     "iopub.execute_input": "2023-11-06T19:41:14.293999Z",
     "iopub.status.busy": "2023-11-06T19:41:14.293584Z",
     "iopub.status.idle": "2023-11-06T19:41:14.302442Z",
     "shell.execute_reply": "2023-11-06T19:41:14.301075Z"
    },
    "papermill": {
     "duration": 0.040679,
     "end_time": "2023-11-06T19:41:14.305068",
     "exception": false,
     "start_time": "2023-11-06T19:41:14.264389",
     "status": "completed"
    },
    "tags": []
   },
   "outputs": [],
   "source": [
    "Rfm.Clusters.dtype"
   ]
  },
  {
   "cell_type": "code",
   "execution_count": null,
   "id": "ae660cb4",
   "metadata": {
    "execution": {
     "iopub.execute_input": "2023-11-06T19:41:14.363959Z",
     "iopub.status.busy": "2023-11-06T19:41:14.363564Z",
     "iopub.status.idle": "2023-11-06T19:41:15.556973Z",
     "shell.execute_reply": "2023-11-06T19:41:15.555752Z"
    },
    "papermill": {
     "duration": 1.226597,
     "end_time": "2023-11-06T19:41:15.559628",
     "exception": false,
     "start_time": "2023-11-06T19:41:14.333031",
     "status": "completed"
    },
    "tags": []
   },
   "outputs": [],
   "source": [
    "clm=Rfm.columns\n",
    "fig,axes=plt.subplots(2,2,figsize=(12,10))\n",
    "for i,ax in enumerate(axes.flatten()):\n",
    "    if i==3:\n",
    "        break\n",
    "    sns.boxplot(data=Rfm,x='Clusters',y=clm[i],showmeans=True,ax=ax)\n",
    "    ax.set_title(f'Clusters wrt {clm[i]}',fontsize=13,color='blue')\n",
    "    ax.set_xlabel('CLUSTERS')\n",
    "    ax.set_ylabel(clm[i])\n",
    "    ax.grid(True)\n",
    "plt.tight_layout()\n",
    "plt.show()"
   ]
  }
 ],
 "metadata": {
  "kernelspec": {
   "display_name": "Python 3",
   "language": "python",
   "name": "python3"
  },
  "language_info": {
   "codemirror_mode": {
    "name": "ipython",
    "version": 3
   },
   "file_extension": ".py",
   "mimetype": "text/x-python",
   "name": "python",
   "nbconvert_exporter": "python",
   "pygments_lexer": "ipython3",
   "version": "3.9.13"
  },
  "papermill": {
   "default_parameters": {},
   "duration": 68.940544,
   "end_time": "2023-11-06T19:41:16.612545",
   "environment_variables": {},
   "exception": null,
   "input_path": "__notebook__.ipynb",
   "output_path": "__notebook__.ipynb",
   "parameters": {},
   "start_time": "2023-11-06T19:40:07.672001",
   "version": "2.4.0"
  }
 },
 "nbformat": 4,
 "nbformat_minor": 5
}
